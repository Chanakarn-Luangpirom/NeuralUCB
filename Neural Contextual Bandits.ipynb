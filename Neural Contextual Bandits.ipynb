{
 "cells": [
  {
   "cell_type": "code",
   "execution_count": 107,
   "id": "641fb798",
   "metadata": {},
   "outputs": [],
   "source": [
    "import pandas as pd\n",
    "import torch\n",
    "import torch.nn as nn\n",
    "import torch.optim as optim\n",
    "import numpy as np\n",
    "from torch.utils.data import DataLoader, TensorDataset\n",
    "import matplotlib.pyplot as plt"
   ]
  },
  {
   "cell_type": "code",
   "execution_count": 108,
   "id": "f48f3888",
   "metadata": {},
   "outputs": [
    {
     "data": {
      "text/plain": [
       "device(type='cuda', index=0)"
      ]
     },
     "execution_count": 108,
     "metadata": {},
     "output_type": "execute_result"
    }
   ],
   "source": [
    "device = torch.device('cuda:0' if torch.cuda.is_available() else 'cpu')\n",
    "device"
   ]
  },
  {
   "cell_type": "code",
   "execution_count": 109,
   "id": "d8992854",
   "metadata": {},
   "outputs": [
    {
     "name": "stdout",
     "output_type": "stream",
     "text": [
      "FeedforwardNN(\n",
      "  (layer1): Linear(in_features=20, out_features=20, bias=True)\n",
      "  (relu1): ReLU()\n",
      "  (output_layer): Linear(in_features=20, out_features=1, bias=True)\n",
      ")\n",
      "Output shape: torch.Size([1])\n"
     ]
    }
   ],
   "source": [
    "class FeedforwardNN(nn.Module):\n",
    "    def __init__(self, input_size, hidden_size, output_size):\n",
    "        super(FeedforwardNN, self).__init__()\n",
    "        self.layer1 = nn.Linear(input_size, hidden_size) #bias = False?\n",
    "        self.relu1 = nn.ReLU()\n",
    "        self.output_layer = nn.Linear(hidden_size, output_size)\n",
    "        self.multiplier = np.sqrt(hidden_size)\n",
    "\n",
    "    def forward(self, x):\n",
    "        x = self.relu1(self.layer1(x))\n",
    "        x = self.output_layer(x)\n",
    "        x = x*self.multiplier\n",
    "        return x\n",
    "\n",
    "# Set random seed for reproducibility\n",
    "torch.manual_seed(42)\n",
    "\n",
    "# Define synthetic input data\n",
    "input_size = 20\n",
    "synthetic_input = torch.rand(input_size)\n",
    "\n",
    "# Instantiate the neural network\n",
    "hidden_size = 20\n",
    "output_size = 1\n",
    "model_1 = FeedforwardNN(input_size, hidden_size, output_size)\n",
    "\n",
    "# Forward pass\n",
    "output = model_1(synthetic_input)\n",
    "\n",
    "# To GPU\n",
    "model_1 = model_1.to(device)\n",
    "\n",
    "# Print the architecture and output shape\n",
    "print(model_1)\n",
    "print(\"Output shape:\", output.shape)"
   ]
  },
  {
   "cell_type": "code",
   "execution_count": 110,
   "id": "2c14d186",
   "metadata": {},
   "outputs": [],
   "source": [
    "initial_weights = model_1.state_dict()"
   ]
  },
  {
   "cell_type": "code",
   "execution_count": 111,
   "id": "29f2b153",
   "metadata": {
    "scrolled": false
   },
   "outputs": [
    {
     "name": "stdout",
     "output_type": "stream",
     "text": [
      "Layer: layer1.weight, Size: torch.Size([20, 20])\n",
      "Layer: output_layer.weight, Size: torch.Size([1, 20])\n",
      "Number of parameters: 420\n"
     ]
    }
   ],
   "source": [
    "p = 0\n",
    "for name, param in model_1.named_parameters():\n",
    "    if 'weight' in name:\n",
    "        x,y = param.size()\n",
    "        p += x*y\n",
    "        print(f'Layer: {name}, Size: {param.size()}')\n",
    "print('Number of parameters:',p)"
   ]
  },
  {
   "cell_type": "code",
   "execution_count": 112,
   "id": "6d8d524e",
   "metadata": {},
   "outputs": [],
   "source": [
    "def random_ball(num_points,dimension,radius = 1):\n",
    "    output = []\n",
    "    for n in range(num_points):\n",
    "        x = np.random.randn(20)\n",
    "        x /= np.linalg.norm(x, ord=2)\n",
    "        x = torch.tensor(x,dtype = torch.float32)\n",
    "        if num_points == 1:\n",
    "            return x\n",
    "        output.append(x)\n",
    "    return torch.stack(output)"
   ]
  },
  {
   "cell_type": "code",
   "execution_count": 113,
   "id": "7ecf0156",
   "metadata": {},
   "outputs": [
    {
     "data": {
      "text/plain": [
       "2.106140088289976"
      ]
     },
     "execution_count": 113,
     "metadata": {},
     "output_type": "execute_result"
    }
   ],
   "source": [
    "# Careful: Adding too much noise breaks it as the noise takes over. But noise doesn't break if the reward is high\n",
    "\n",
    "a = random_ball(1,20,1).reshape(-1).to(device)\n",
    "def reward_function_quadratic(context):\n",
    "    return 10*(torch.dot(context,a)**2).item() + (0.1*torch.randn(1)).item()\n",
    "#     return 10*(torch.dot(context,a)**2).item()\n",
    "reward_function_quadratic(random_ball(1,20).to(device))"
   ]
  },
  {
   "cell_type": "code",
   "execution_count": 114,
   "id": "f972c8a7",
   "metadata": {},
   "outputs": [],
   "source": [
    "class CustomLoss(nn.Module):\n",
    "    def __init__(self):\n",
    "        super(CustomLoss, self).__init__()\n",
    "\n",
    "    def forward(self, predicted, target,flattened_initial_weights,flattened_current_weights):\n",
    "        loss = (0.5*torch.sum((predicted - target)**2))/target.shape[0]\n",
    "        m = 20\n",
    "        lamb = 1\n",
    "        norm = 0.5*m*lamb*(torch.norm(flattened_initial_weights - flattened_current_weights, p=2)**2)\n",
    "        return loss + norm"
   ]
  },
  {
   "cell_type": "code",
   "execution_count": 115,
   "id": "c1ac7cee",
   "metadata": {},
   "outputs": [],
   "source": [
    "def train_nn(input_data,best_rewards,initial_weights,step_size, J = 20):\n",
    "    model_inside = FeedforwardNN(input_size, hidden_size, output_size).to(device)\n",
    "    model_inside.load_state_dict(initial_weights)\n",
    "\n",
    "    loss_function = CustomLoss()\n",
    "\n",
    "    optimizer = optim.SGD(model_inside.parameters(),lr = step_size) # Need to fix to GD?\n",
    "    size = len(input_data)\n",
    "    rewards = torch.tensor(best_rewards).reshape(-1,1)\n",
    "    dataset = TensorDataset(input_data,rewards)\n",
    "    \n",
    "    batch_size = 50\n",
    "    shuffle = True  # Set to True if you want to shuffle the data\n",
    "    data_loader = DataLoader(dataset, batch_size=batch_size, shuffle=shuffle)    \n",
    "\n",
    "    flattened_initial_weights = torch.cat([p.flatten() for p in initial_weights.values()])\n",
    "    \n",
    "    for j in range(J):\n",
    "        for inputs,targets in data_loader:\n",
    "            inputs, targets = inputs.to(device), targets.to(device)\n",
    "            optimizer.zero_grad()\n",
    "            output = model_inside(inputs)\n",
    "            current_weights = model_inside.state_dict()\n",
    "            flattened_current_weights = torch.cat([p.flatten() for p in current_weights.values()])\n",
    "            loss = loss_function(output, targets,flattened_initial_weights,flattened_current_weights)\n",
    "            loss.backward()\n",
    "            optimizer.step()\n",
    "        \n",
    "    print('--------------------------------------')\n",
    "\n",
    "    model_weights = model_inside.state_dict()\n",
    "    return model_weights"
   ]
  },
  {
   "cell_type": "code",
   "execution_count": 116,
   "id": "3cac29ae",
   "metadata": {},
   "outputs": [],
   "source": [
    "def get_regret(data,best_action,reward_function):\n",
    "    best_reward = -np.inf\n",
    "    rewards = []\n",
    "    for idx,t in enumerate(data):\n",
    "        reward = reward_function(t)\n",
    "        if reward > best_reward:\n",
    "            best_reward = reward\n",
    "            best_idx = idx\n",
    "            \n",
    "        rewards.append(reward)\n",
    "            \n",
    "    chosen_reward = rewards[best_action]\n",
    "    regret = best_reward - chosen_reward\n",
    "    return regret"
   ]
  },
  {
   "cell_type": "code",
   "execution_count": 117,
   "id": "25b92b65",
   "metadata": {},
   "outputs": [],
   "source": [
    "def NeuralUCB(model,reward_function,initial_weights, T, lamb = 1, step_size = 0.001):\n",
    "    Z = lamb * torch.eye(p).to(device)\n",
    "    K = 4\n",
    "    dim = 20 # feature vector dimension (context)\n",
    "    m = 20 # Neural Network width\n",
    "    gamma = 1\n",
    "    best_contexts = []\n",
    "    best_rewards = []\n",
    "    regrets = []\n",
    "    for t in range(T):\n",
    "        synthetic_input = random_ball(K,dim).to(device) # \"K\" arms x \"dim\" feature size\n",
    "        all_grad = []\n",
    "        ucbs = []\n",
    "        for k in range(K):\n",
    "            output = model(synthetic_input[k])\n",
    "            model.zero_grad()\n",
    "            output.backward(torch.ones_like(output),retain_graph = True)\n",
    "            g = []\n",
    "            for name, param in model.named_parameters():\n",
    "                if 'weight' in name:\n",
    "                    tmp = param.grad.flatten()\n",
    "                    g.append(tmp)\n",
    "            g = torch.cat(g,dim = 0).reshape(-1,1).to(device)\n",
    "    \n",
    "    \n",
    "            Z_inv = torch.inverse(Z)\n",
    "            \n",
    "            \n",
    "            all_grad.append(g)\n",
    "            exploration_reward = gamma*torch.sqrt((g.T@Z_inv@g)/m) \n",
    "            ucb_a = output + exploration_reward\n",
    "            ucbs.append(ucb_a.item())\n",
    "            \n",
    "            \n",
    "        ucbs = torch.tensor(ucbs)\n",
    "        best_action = torch.argmax(ucbs).item()\n",
    "        best_context = synthetic_input[best_action]\n",
    "        best_g = all_grad[best_action]\n",
    "        best_reward = reward_function(best_context)\n",
    "        Z = Z + (best_g@best_g.T/m)\n",
    "        \n",
    "        best_contexts.append(best_context)\n",
    "        \n",
    "        \n",
    "        best_rewards.append(best_reward)\n",
    "        \n",
    "        \n",
    "        \n",
    "        if (t+1)%50 == 0:\n",
    "            ### Train Neural Network\n",
    "            new_weights = train_nn(torch.stack(best_contexts),\n",
    "                                   torch.tensor(best_rewards),\n",
    "                                   initial_weights,\n",
    "                                   step_size = step_size,\n",
    "                                   J = t+1)\n",
    "            model.load_state_dict(new_weights)\n",
    "            print(f'Training NN step {t+1}')\n",
    "            print('Cumulative Regret: ' , np.sum(regrets))\n",
    "\n",
    "        regret = get_regret(synthetic_input,best_action,reward_function)\n",
    "        regrets.append(regret)\n",
    "        \n",
    "        # Update gamma: To be updated        \n",
    "        \n",
    "        \n",
    "        \n",
    "    return model,regrets"
   ]
  },
  {
   "cell_type": "markdown",
   "id": "c8b6ed53",
   "metadata": {},
   "source": [
    "### Quadratic function"
   ]
  },
  {
   "cell_type": "code",
   "execution_count": 118,
   "id": "144eb333",
   "metadata": {
    "scrolled": true
   },
   "outputs": [
    {
     "name": "stderr",
     "output_type": "stream",
     "text": [
      "C:\\Users\\chana\\AppData\\Local\\Temp\\ipykernel_7416\\4264651518.py:9: UserWarning: To copy construct from a tensor, it is recommended to use sourceTensor.clone().detach() or sourceTensor.clone().detach().requires_grad_(True), rather than torch.tensor(sourceTensor).\n",
      "  rewards = torch.tensor(best_rewards).reshape(-1,1)\n"
     ]
    },
    {
     "name": "stdout",
     "output_type": "stream",
     "text": [
      "--------------------------------------\n",
      "Training NN step 50\n",
      "Cumulative Regret:  48.86995837362156\n",
      "--------------------------------------\n",
      "Training NN step 100\n",
      "Cumulative Regret:  89.22926634365831\n",
      "--------------------------------------\n",
      "Training NN step 150\n",
      "Cumulative Regret:  117.10859169785567\n",
      "--------------------------------------\n",
      "Training NN step 200\n",
      "Cumulative Regret:  150.51698329216038\n",
      "--------------------------------------\n",
      "Training NN step 250\n",
      "Cumulative Regret:  181.54312564014594\n",
      "--------------------------------------\n",
      "Training NN step 300\n",
      "Cumulative Regret:  202.38918039679425\n",
      "--------------------------------------\n",
      "Training NN step 350\n",
      "Cumulative Regret:  231.18147352296006\n",
      "--------------------------------------\n",
      "Training NN step 400\n",
      "Cumulative Regret:  252.82142714609296\n",
      "--------------------------------------\n",
      "Training NN step 450\n",
      "Cumulative Regret:  278.2754647368093\n",
      "--------------------------------------\n",
      "Training NN step 500\n",
      "Cumulative Regret:  297.63500056360687\n",
      "--------------------------------------\n",
      "Training NN step 550\n",
      "Cumulative Regret:  309.5768458098483\n",
      "--------------------------------------\n",
      "Training NN step 600\n",
      "Cumulative Regret:  319.90998306314765\n",
      "--------------------------------------\n",
      "Training NN step 650\n",
      "Cumulative Regret:  326.25951933863877\n",
      "--------------------------------------\n",
      "Training NN step 700\n",
      "Cumulative Regret:  327.69467446630193\n",
      "--------------------------------------\n",
      "Training NN step 750\n",
      "Cumulative Regret:  328.83209080074636\n",
      "--------------------------------------\n",
      "Training NN step 800\n",
      "Cumulative Regret:  330.43070797822605\n",
      "--------------------------------------\n",
      "Training NN step 850\n",
      "Cumulative Regret:  331.18881807123074\n",
      "--------------------------------------\n",
      "Training NN step 900\n",
      "Cumulative Regret:  332.2680888629588\n",
      "--------------------------------------\n",
      "Training NN step 950\n",
      "Cumulative Regret:  334.19174891287224\n",
      "--------------------------------------\n",
      "Training NN step 1000\n",
      "Cumulative Regret:  335.8822147413468\n"
     ]
    }
   ],
   "source": [
    "model_1,regrets_1 = NeuralUCB(model_1,reward_function_quadratic,initial_weights,1000)"
   ]
  },
  {
   "cell_type": "code",
   "execution_count": 119,
   "id": "e2652823",
   "metadata": {},
   "outputs": [],
   "source": [
    "def plot_cumulative(data):\n",
    "    cumulative_sum = np.cumsum(data)\n",
    "    plt.plot(cumulative_sum)\n",
    "    plt.xlabel('Index')\n",
    "    plt.ylabel('Cumulative Sum')\n",
    "    plt.title('Cumulative Sum Plot')\n",
    "    plt.grid(True)\n",
    "    plt.show()"
   ]
  },
  {
   "cell_type": "code",
   "execution_count": 120,
   "id": "82742341",
   "metadata": {},
   "outputs": [
    {
     "data": {
      "image/png": "[encoded data removed]",
      "text/plain": [
       "<Figure size 432x288 with 1 Axes>"
      ]
     },
     "metadata": {
      "needs_background": "light"
     },
     "output_type": "display_data"
    }
   ],
   "source": [
    "plot_cumulative(regrets_1)"
   ]
  },
  {
   "cell_type": "markdown",
   "id": "708a694e",
   "metadata": {},
   "source": [
    "### Result Testing: Quadratic"
   ]
  },
  {
   "cell_type": "code",
   "execution_count": 121,
   "id": "1560c2ce",
   "metadata": {},
   "outputs": [
    {
     "name": "stdout",
     "output_type": "stream",
     "text": [
      "tensor([[ 0.0209, -0.1756, -0.1094, -0.0564,  0.0969,  0.2426,  0.1705,  0.2289,\n",
      "         -0.2481, -0.3333,  0.1450,  0.0541, -0.2715, -0.0634, -0.1015, -0.6213,\n",
      "         -0.1756,  0.0489,  0.3105, -0.0601],\n",
      "        [ 0.0389,  0.1717,  0.1798, -0.0494,  0.1315,  0.0128, -0.0552, -0.1827,\n",
      "         -0.4224,  0.2126, -0.1924,  0.0604, -0.3235, -0.2800,  0.1018,  0.3890,\n",
      "         -0.0061,  0.2390,  0.3970,  0.2379],\n",
      "        [-0.1571, -0.1046, -0.2892, -0.0416,  0.3006,  0.1306, -0.2126, -0.2844,\n",
      "         -0.0904, -0.0273,  0.1253, -0.0636,  0.2268, -0.4737,  0.0675, -0.1214,\n",
      "          0.0993, -0.0868,  0.3934,  0.3867],\n",
      "        [-0.1772,  0.2239, -0.0293, -0.3612, -0.1474, -0.3090, -0.2483,  0.1533,\n",
      "         -0.2984, -0.3871,  0.1666,  0.2122,  0.1064,  0.2964, -0.2557, -0.1222,\n",
      "          0.0569,  0.2671, -0.0637, -0.1225]], device='cuda:0')\n"
     ]
    }
   ],
   "source": [
    "test = random_ball(4,20).to(device)\n",
    "print(test)"
   ]
  },
  {
   "cell_type": "code",
   "execution_count": 122,
   "id": "fae6dff8",
   "metadata": {},
   "outputs": [
    {
     "name": "stdout",
     "output_type": "stream",
     "text": [
      "idx_0 reward:  1.720720261335373\n",
      "idx_1 reward:  0.227510467171669\n",
      "idx_2 reward:  0.21712196618318558\n",
      "idx_3 reward:  -0.02728229737840593\n"
     ]
    }
   ],
   "source": [
    "best_idx = 0\n",
    "best_reward = 0\n",
    "for idx,t in enumerate(test):\n",
    "    reward = reward_function_quadratic(t)\n",
    "    if reward>best_reward:\n",
    "        best_reward = reward\n",
    "        best_idx = idx\n",
    "    print(f'idx_{idx} reward: ',reward)"
   ]
  },
  {
   "cell_type": "code",
   "execution_count": 123,
   "id": "d3b4cdfd",
   "metadata": {
    "scrolled": false
   },
   "outputs": [
    {
     "data": {
      "text/plain": [
       "tensor([[ 1.6829],\n",
       "        [ 0.3744],\n",
       "        [ 0.4980],\n",
       "        [-0.1370]], device='cuda:0', grad_fn=<MulBackward0>)"
      ]
     },
     "execution_count": 123,
     "metadata": {},
     "output_type": "execute_result"
    }
   ],
   "source": [
    "model_1(test)"
   ]
  },
  {
   "cell_type": "markdown",
   "id": "615a1fa4",
   "metadata": {},
   "source": [
    "## cos function"
   ]
  },
  {
   "cell_type": "code",
   "execution_count": 124,
   "id": "867e863e",
   "metadata": {},
   "outputs": [],
   "source": [
    "model_2 = FeedforwardNN(input_size, hidden_size, output_size)\n",
    "model_2 = model_2.to(device)\n",
    "initial_weights = model_2.state_dict()"
   ]
  },
  {
   "cell_type": "code",
   "execution_count": 125,
   "id": "5ec3f2df",
   "metadata": {},
   "outputs": [
    {
     "data": {
      "text/plain": [
       "0.9958812881588834"
      ]
     },
     "execution_count": 125,
     "metadata": {},
     "output_type": "execute_result"
    }
   ],
   "source": [
    "a = random_ball(1,20,1).reshape(-1).to(device)\n",
    "def reward_function_cos(context):\n",
    "#     return np.cos(3*(torch.dot(context,a)).item()) + (0.1*torch.randn(1)).item()\n",
    "    return np.cos(3*(torch.dot(context,a)).item())\n",
    "reward_function_cos(random_ball(1,20).to(device))"
   ]
  },
  {
   "cell_type": "code",
   "execution_count": null,
   "id": "f4af46a7",
   "metadata": {
    "scrolled": true
   },
   "outputs": [
    {
     "name": "stderr",
     "output_type": "stream",
     "text": [
      "C:\\Users\\chana\\AppData\\Local\\Temp\\ipykernel_7416\\4264651518.py:9: UserWarning: To copy construct from a tensor, it is recommended to use sourceTensor.clone().detach() or sourceTensor.clone().detach().requires_grad_(True), rather than torch.tensor(sourceTensor).\n",
      "  rewards = torch.tensor(best_rewards).reshape(-1,1)\n"
     ]
    },
    {
     "name": "stdout",
     "output_type": "stream",
     "text": [
      "--------------------------------------\n",
      "Training NN step 50\n",
      "Cumulative Regret:  5.592399726139931\n",
      "--------------------------------------\n",
      "Training NN step 100\n",
      "Cumulative Regret:  13.9184480412633\n",
      "--------------------------------------\n",
      "Training NN step 150\n",
      "Cumulative Regret:  23.926334362213957\n",
      "--------------------------------------\n",
      "Training NN step 200\n",
      "Cumulative Regret:  32.790714992441856\n",
      "--------------------------------------\n",
      "Training NN step 250\n",
      "Cumulative Regret:  41.90028328235129\n"
     ]
    }
   ],
   "source": [
    "model_2,regrets_2 = NeuralUCB(model_2,reward_function_cos,initial_weights,1000)"
   ]
  },
  {
   "cell_type": "code",
   "execution_count": null,
   "id": "cb1b764d",
   "metadata": {},
   "outputs": [],
   "source": [
    "plot_cumulative(regrets_2)"
   ]
  },
  {
   "cell_type": "markdown",
   "id": "fe969872",
   "metadata": {},
   "source": [
    "### Result Testing: Cos"
   ]
  },
  {
   "cell_type": "code",
   "execution_count": null,
   "id": "a519dbec",
   "metadata": {},
   "outputs": [],
   "source": [
    "test = random_ball(4,20).to(device)"
   ]
  },
  {
   "cell_type": "code",
   "execution_count": null,
   "id": "704d2305",
   "metadata": {},
   "outputs": [],
   "source": [
    "best_idx = 0\n",
    "best_reward = 0\n",
    "for idx,t in enumerate(test):\n",
    "    reward = reward_function_cos(t)\n",
    "    if reward>best_reward:\n",
    "        best_reward = reward\n",
    "        best_idx = idx\n",
    "    print(f'idx_{idx} reward: ',reward)"
   ]
  },
  {
   "cell_type": "code",
   "execution_count": null,
   "id": "52deafac",
   "metadata": {},
   "outputs": [],
   "source": [
    "model_2(test)"
   ]
  },
  {
   "cell_type": "code",
   "execution_count": null,
   "id": "4d341fcf",
   "metadata": {},
   "outputs": [],
   "source": []
  }
 ],
 "metadata": {
  "kernelspec": {
   "display_name": "Python 3 (ipykernel)",
   "language": "python",
   "name": "python3"
  },
  "language_info": {
   "codemirror_mode": {
    "name": "ipython",
    "version": 3
   },
   "file_extension": ".py",
   "mimetype": "text/x-python",
   "name": "python",
   "nbconvert_exporter": "python",
   "pygments_lexer": "ipython3",
   "version": "3.9.12"
  }
 },
 "nbformat": 4,
 "nbformat_minor": 5
}
