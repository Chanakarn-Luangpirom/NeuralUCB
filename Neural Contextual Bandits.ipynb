{
 "cells": [
  {
   "cell_type": "code",
   "execution_count": 1,
   "id": "641fb798",
   "metadata": {},
   "outputs": [],
   "source": [
    "import pandas as pd\n",
    "import torch\n",
    "import torch.nn as nn\n",
    "import torch.optim as optim\n",
    "import numpy as np\n",
    "from torch.utils.data import DataLoader, TensorDataset\n",
    "import matplotlib.pyplot as plt"
   ]
  },
  {
   "cell_type": "code",
   "execution_count": 2,
   "id": "f48f3888",
   "metadata": {},
   "outputs": [
    {
     "data": {
      "text/plain": [
       "device(type='cuda', index=0)"
      ]
     },
     "execution_count": 2,
     "metadata": {},
     "output_type": "execute_result"
    }
   ],
   "source": [
    "device = torch.device('cuda:0' if torch.cuda.is_available() else 'cpu')\n",
    "device"
   ]
  },
  {
   "cell_type": "code",
   "execution_count": 3,
   "id": "d8992854",
   "metadata": {},
   "outputs": [
    {
     "name": "stdout",
     "output_type": "stream",
     "text": [
      "FeedforwardNN(\n",
      "  (layer1): Linear(in_features=20, out_features=20, bias=True)\n",
      "  (relu1): ReLU()\n",
      "  (output_layer): Linear(in_features=20, out_features=1, bias=True)\n",
      ")\n",
      "Output shape: torch.Size([1])\n"
     ]
    }
   ],
   "source": [
    "class FeedforwardNN(nn.Module):\n",
    "    def __init__(self, input_size, hidden_size, output_size):\n",
    "        super(FeedforwardNN, self).__init__()\n",
    "        self.layer1 = nn.Linear(input_size, hidden_size) #bias = False?\n",
    "        self.relu1 = nn.ReLU()\n",
    "        self.output_layer = nn.Linear(hidden_size, output_size)\n",
    "        self.multiplier = np.sqrt(hidden_size)\n",
    "\n",
    "    def forward(self, x):\n",
    "        x = self.relu1(self.layer1(x))\n",
    "        x = self.output_layer(x)\n",
    "        x = x*self.multiplier\n",
    "        return x\n",
    "\n",
    "# Set random seed for reproducibility\n",
    "torch.manual_seed(42)\n",
    "\n",
    "# Define synthetic input data\n",
    "input_size = 20\n",
    "synthetic_input = torch.rand(input_size)\n",
    "\n",
    "# Instantiate the neural network\n",
    "hidden_size = 20\n",
    "output_size = 1\n",
    "model_1 = FeedforwardNN(input_size, hidden_size, output_size)\n",
    "\n",
    "# Forward pass\n",
    "output = model_1(synthetic_input)\n",
    "\n",
    "# To GPU\n",
    "model_1 = model_1.to(device)\n",
    "\n",
    "# Print the architecture and output shape\n",
    "print(model_1)\n",
    "print(\"Output shape:\", output.shape)"
   ]
  },
  {
   "cell_type": "code",
   "execution_count": 4,
   "id": "2c14d186",
   "metadata": {},
   "outputs": [],
   "source": [
    "initial_weights = model_1.state_dict()"
   ]
  },
  {
   "cell_type": "code",
   "execution_count": 5,
   "id": "29f2b153",
   "metadata": {
    "scrolled": false
   },
   "outputs": [
    {
     "name": "stdout",
     "output_type": "stream",
     "text": [
      "Layer: layer1.weight, Size: torch.Size([20, 20])\n",
      "Layer: output_layer.weight, Size: torch.Size([1, 20])\n",
      "Number of parameters: 420\n"
     ]
    }
   ],
   "source": [
    "p = 0\n",
    "for name, param in model_1.named_parameters():\n",
    "    if 'weight' in name:\n",
    "        x,y = param.size()\n",
    "        p += x*y\n",
    "        print(f'Layer: {name}, Size: {param.size()}')\n",
    "print('Number of parameters:',p)"
   ]
  },
  {
   "cell_type": "code",
   "execution_count": 6,
   "id": "6d8d524e",
   "metadata": {},
   "outputs": [],
   "source": [
    "def random_ball(num_points,dimension,radius = 1):\n",
    "    output = []\n",
    "    for n in range(num_points):\n",
    "        x = np.random.randn(20)\n",
    "        x /= np.linalg.norm(x, ord=2)\n",
    "        x = torch.tensor(x,dtype = torch.float32)\n",
    "        if num_points == 1:\n",
    "            return x\n",
    "        output.append(x)\n",
    "    return torch.stack(output)"
   ]
  },
  {
   "cell_type": "code",
   "execution_count": 7,
   "id": "7ecf0156",
   "metadata": {},
   "outputs": [
    {
     "data": {
      "text/plain": [
       "0.06033667697920464"
      ]
     },
     "execution_count": 7,
     "metadata": {},
     "output_type": "execute_result"
    }
   ],
   "source": [
    "# Careful: Adding too much noise breaks it as the noise takes over. But noise doesn't break if the reward is high\n",
    "\n",
    "a = random_ball(1,20,1).reshape(-1).to(device)\n",
    "def reward_function_quadratic(context):\n",
    "    return 10*(torch.dot(context,a)**2).item() + (0.1*torch.randn(1)).item()\n",
    "reward_function_quadratic(random_ball(1,20).to(device))"
   ]
  },
  {
   "cell_type": "code",
   "execution_count": 8,
   "id": "f972c8a7",
   "metadata": {},
   "outputs": [],
   "source": [
    "class CustomLoss(nn.Module):\n",
    "    def __init__(self):\n",
    "        super(CustomLoss, self).__init__()\n",
    "\n",
    "    def forward(self, predicted, target,flattened_initial_weights,flattened_current_weights):\n",
    "        loss = (0.5*torch.sum((predicted - target)**2))/target.shape[0]\n",
    "        m = 20\n",
    "        lamb = 1\n",
    "        norm = 0.5*m*lamb*(torch.norm(flattened_initial_weights - flattened_current_weights, p=2)**2)\n",
    "        return loss + norm"
   ]
  },
  {
   "cell_type": "code",
   "execution_count": 9,
   "id": "c1ac7cee",
   "metadata": {},
   "outputs": [],
   "source": [
    "def train_nn(input_data,best_rewards,initial_weights,step_size, J = 20):\n",
    "    model_inside = FeedforwardNN(input_size, hidden_size, output_size).to(device)\n",
    "    model_inside.load_state_dict(initial_weights)\n",
    "\n",
    "    loss_function = CustomLoss()\n",
    "\n",
    "    optimizer = optim.SGD(model_inside.parameters(),lr = step_size) # Need to fix to GD?\n",
    "    size = len(input_data)\n",
    "    rewards = torch.tensor(best_rewards).reshape(-1,1)\n",
    "    dataset = TensorDataset(input_data,rewards)\n",
    "    \n",
    "    batch_size = 50\n",
    "    shuffle = True  # Set to True if you want to shuffle the data\n",
    "    data_loader = DataLoader(dataset, batch_size=batch_size, shuffle=shuffle)    \n",
    "\n",
    "    flattened_initial_weights = torch.cat([p.flatten() for p in initial_weights.values()])\n",
    "    \n",
    "    for j in range(J):\n",
    "        for inputs,targets in data_loader:\n",
    "            inputs, targets = inputs.to(device), targets.to(device)\n",
    "            optimizer.zero_grad()\n",
    "            output = model_inside(inputs)\n",
    "            current_weights = model_inside.state_dict()\n",
    "            flattened_current_weights = torch.cat([p.flatten() for p in current_weights.values()])\n",
    "            loss = loss_function(output, targets,flattened_initial_weights,flattened_current_weights)\n",
    "            loss.backward()\n",
    "            optimizer.step()\n",
    "        \n",
    "    print('--------------------------------------')\n",
    "\n",
    "    model_weights = model_inside.state_dict()\n",
    "    return model_weights"
   ]
  },
  {
   "cell_type": "code",
   "execution_count": 10,
   "id": "3cac29ae",
   "metadata": {},
   "outputs": [],
   "source": [
    "def get_regret(data,best_action,reward_function):\n",
    "    best_reward = -np.inf\n",
    "    rewards = []\n",
    "    for idx,t in enumerate(data):\n",
    "        reward = reward_function(t)\n",
    "        if reward > best_reward:\n",
    "            best_reward = reward\n",
    "            best_idx = idx\n",
    "            \n",
    "        rewards.append(reward)\n",
    "            \n",
    "    chosen_reward = rewards[best_action]\n",
    "    regret = best_reward - chosen_reward\n",
    "    return regret"
   ]
  },
  {
   "cell_type": "code",
   "execution_count": 11,
   "id": "25b92b65",
   "metadata": {},
   "outputs": [],
   "source": [
    "def NeuralUCB(model,reward_function,initial_weights, T, lamb = 1, step_size = 0.001):\n",
    "    Z = lamb * torch.eye(p).to(device)\n",
    "    K = 4\n",
    "    dim = 20 # feature vector dimension (context)\n",
    "    m = 20 # Neural Network width\n",
    "    gamma = 1\n",
    "    best_contexts = []\n",
    "    best_rewards = []\n",
    "    regrets = []\n",
    "    for t in range(T):\n",
    "        synthetic_input = random_ball(K,dim).to(device) # \"K\" arms x \"dim\" feature size\n",
    "        all_grad = []\n",
    "        ucbs = []\n",
    "        for k in range(K):\n",
    "            output = model(synthetic_input[k])\n",
    "            model.zero_grad()\n",
    "            output.backward(torch.ones_like(output),retain_graph = True)\n",
    "            g = []\n",
    "            for name, param in model.named_parameters():\n",
    "                if 'weight' in name:\n",
    "                    tmp = param.grad.flatten()\n",
    "                    g.append(tmp)\n",
    "            g = torch.cat(g,dim = 0).reshape(-1,1).to(device)\n",
    "    \n",
    "    \n",
    "            Z_inv = torch.inverse(Z)\n",
    "            \n",
    "            \n",
    "            all_grad.append(g)\n",
    "            exploration_reward = gamma*torch.sqrt((g.T@Z_inv@g)/m) \n",
    "            ucb_a = output + exploration_reward\n",
    "            ucbs.append(ucb_a.item())\n",
    "            \n",
    "            \n",
    "        ucbs = torch.tensor(ucbs)\n",
    "        best_action = torch.argmax(ucbs).item()\n",
    "        best_context = synthetic_input[best_action]\n",
    "        best_g = all_grad[best_action]\n",
    "        best_reward = reward_function(best_context)\n",
    "        Z = Z + (best_g@best_g.T/m)\n",
    "        \n",
    "        best_contexts.append(best_context)\n",
    "        \n",
    "        \n",
    "        best_rewards.append(best_reward)\n",
    "        \n",
    "        \n",
    "        \n",
    "        if (t+1)%50 == 0:\n",
    "            ### Train Neural Network\n",
    "            new_weights = train_nn(torch.stack(best_contexts),\n",
    "                                   torch.tensor(best_rewards),\n",
    "                                   initial_weights,\n",
    "                                   step_size = step_size,\n",
    "                                   J = t+1)\n",
    "            model.load_state_dict(new_weights)\n",
    "            print(f'Training NN step {t+1}')\n",
    "            print('Cumulative Regret: ' , np.sum(regrets))\n",
    "\n",
    "        regret = get_regret(synthetic_input,best_action,reward_function)\n",
    "        regrets.append(regret)\n",
    "        \n",
    "        # Update gamma: To be updated        \n",
    "        \n",
    "        \n",
    "        \n",
    "    return model,regrets"
   ]
  },
  {
   "cell_type": "markdown",
   "id": "c8b6ed53",
   "metadata": {},
   "source": [
    "### Quadratic function"
   ]
  },
  {
   "cell_type": "code",
   "execution_count": 12,
   "id": "144eb333",
   "metadata": {
    "scrolled": true
   },
   "outputs": [
    {
     "name": "stderr",
     "output_type": "stream",
     "text": [
      "C:\\Users\\chana\\AppData\\Local\\Temp\\ipykernel_4712\\4264651518.py:9: UserWarning: To copy construct from a tensor, it is recommended to use sourceTensor.clone().detach() or sourceTensor.clone().detach().requires_grad_(True), rather than torch.tensor(sourceTensor).\n",
      "  rewards = torch.tensor(best_rewards).reshape(-1,1)\n"
     ]
    },
    {
     "name": "stdout",
     "output_type": "stream",
     "text": [
      "--------------------------------------\n",
      "Training NN step 50\n",
      "Cumulative Regret:  28.623601218947442\n",
      "--------------------------------------\n",
      "Training NN step 100\n",
      "Cumulative Regret:  60.29138950446213\n",
      "--------------------------------------\n",
      "Training NN step 150\n",
      "Cumulative Regret:  91.00831971138541\n",
      "--------------------------------------\n",
      "Training NN step 200\n",
      "Cumulative Regret:  119.45493935447075\n",
      "--------------------------------------\n",
      "Training NN step 250\n",
      "Cumulative Regret:  135.6054616217275\n",
      "--------------------------------------\n",
      "Training NN step 300\n",
      "Cumulative Regret:  159.8743399659411\n",
      "--------------------------------------\n",
      "Training NN step 350\n",
      "Cumulative Regret:  181.70663324858242\n",
      "--------------------------------------\n",
      "Training NN step 400\n",
      "Cumulative Regret:  209.59973637344729\n",
      "--------------------------------------\n",
      "Training NN step 450\n",
      "Cumulative Regret:  238.92092613579507\n",
      "--------------------------------------\n",
      "Training NN step 500\n",
      "Cumulative Regret:  256.9106262929988\n",
      "--------------------------------------\n",
      "Training NN step 550\n",
      "Cumulative Regret:  277.8043901252229\n",
      "--------------------------------------\n",
      "Training NN step 600\n",
      "Cumulative Regret:  298.0698126260529\n",
      "--------------------------------------\n",
      "Training NN step 650\n",
      "Cumulative Regret:  316.04215548833486\n",
      "--------------------------------------\n",
      "Training NN step 700\n",
      "Cumulative Regret:  328.60012548754344\n",
      "--------------------------------------\n",
      "Training NN step 750\n",
      "Cumulative Regret:  333.5994355768187\n",
      "--------------------------------------\n",
      "Training NN step 800\n",
      "Cumulative Regret:  335.461821349453\n",
      "--------------------------------------\n",
      "Training NN step 850\n",
      "Cumulative Regret:  335.9433383979783\n",
      "--------------------------------------\n",
      "Training NN step 900\n",
      "Cumulative Regret:  337.0694265659847\n",
      "--------------------------------------\n",
      "Training NN step 950\n",
      "Cumulative Regret:  337.6104428801634\n",
      "--------------------------------------\n",
      "Training NN step 1000\n",
      "Cumulative Regret:  338.5022909082188\n"
     ]
    }
   ],
   "source": [
    "model_1,regrets_1 = NeuralUCB(model_1,reward_function_quadratic,initial_weights,1000)"
   ]
  },
  {
   "cell_type": "code",
   "execution_count": 13,
   "id": "e2652823",
   "metadata": {},
   "outputs": [],
   "source": [
    "def plot_cumulative(data):\n",
    "    cumulative_sum = np.cumsum(data)\n",
    "    plt.plot(cumulative_sum)\n",
    "    plt.xlabel('Index')\n",
    "    plt.ylabel('Cumulative Sum')\n",
    "    plt.title('Cumulative Sum Plot')\n",
    "    plt.grid(True)\n",
    "    plt.show()"
   ]
  },
  {
   "cell_type": "code",
   "execution_count": 14,
   "id": "82742341",
   "metadata": {},
   "outputs": [
    {
     "data": {
      "image/png": "[encoded data removed]",
      "text/plain": [
       "<Figure size 432x288 with 1 Axes>"
      ]
     },
     "metadata": {
      "needs_background": "light"
     },
     "output_type": "display_data"
    }
   ],
   "source": [
    "plot_cumulative(regrets_1)"
   ]
  },
  {
   "cell_type": "markdown",
   "id": "708a694e",
   "metadata": {},
   "source": [
    "### Result Testing: Quadratic"
   ]
  },
  {
   "cell_type": "code",
   "execution_count": 47,
   "id": "1560c2ce",
   "metadata": {},
   "outputs": [
    {
     "name": "stdout",
     "output_type": "stream",
     "text": [
      "tensor([[ 0.0710, -0.0699,  0.0776, -0.2942,  0.0166, -0.3461,  0.1707, -0.0231,\n",
      "         -0.3830,  0.0738,  0.0543,  0.0846, -0.3387,  0.5027,  0.3305,  0.2219,\n",
      "         -0.1029, -0.1791, -0.1301,  0.0098],\n",
      "        [ 0.6088, -0.4401,  0.1078,  0.0015,  0.1008,  0.1873,  0.0668,  0.0673,\n",
      "         -0.2665,  0.0306,  0.0254, -0.3311, -0.1184, -0.0638,  0.2527, -0.1216,\n",
      "          0.1245,  0.2634, -0.0643, -0.0434],\n",
      "        [ 0.2635,  0.1039,  0.0854, -0.0554,  0.0660, -0.0726, -0.3408, -0.1136,\n",
      "         -0.0287, -0.0949, -0.2512,  0.1547,  0.1948,  0.5173,  0.2548,  0.2306,\n",
      "         -0.1948,  0.1577,  0.3737,  0.2184],\n",
      "        [ 0.0102, -0.1825, -0.1702,  0.2610, -0.2698, -0.2298, -0.3948, -0.2860,\n",
      "          0.0982,  0.1178,  0.1463, -0.1760,  0.0646,  0.0840, -0.2995, -0.0511,\n",
      "         -0.2583, -0.0203, -0.4983,  0.1066]], device='cuda:0')\n"
     ]
    }
   ],
   "source": [
    "test = random_ball(4,20).to(device)\n",
    "print(test)"
   ]
  },
  {
   "cell_type": "code",
   "execution_count": 48,
   "id": "fae6dff8",
   "metadata": {},
   "outputs": [
    {
     "name": "stdout",
     "output_type": "stream",
     "text": [
      "idx_0 reward:  1.0650611259043217\n",
      "idx_1 reward:  0.33916478231549263\n",
      "idx_2 reward:  0.0002045060391537845\n",
      "idx_3 reward:  -0.047547863447107375\n"
     ]
    }
   ],
   "source": [
    "best_idx = 0\n",
    "best_reward = 0\n",
    "for idx,t in enumerate(test):\n",
    "    reward = reward_function_quadratic(t)\n",
    "    if reward>best_reward:\n",
    "        best_reward = reward\n",
    "        best_idx = idx\n",
    "    print(f'idx_{idx} reward: ',reward)"
   ]
  },
  {
   "cell_type": "code",
   "execution_count": 49,
   "id": "d3b4cdfd",
   "metadata": {
    "scrolled": false
   },
   "outputs": [
    {
     "data": {
      "text/plain": [
       "tensor([[1.3269e+00],\n",
       "        [2.2581e-04],\n",
       "        [7.5040e-02],\n",
       "        [8.7263e-02]], device='cuda:0', grad_fn=<MulBackward0>)"
      ]
     },
     "execution_count": 49,
     "metadata": {},
     "output_type": "execute_result"
    }
   ],
   "source": [
    "model_1(test)"
   ]
  },
  {
   "cell_type": "markdown",
   "id": "615a1fa4",
   "metadata": {},
   "source": [
    "## cos function"
   ]
  },
  {
   "cell_type": "code",
   "execution_count": 19,
   "id": "867e863e",
   "metadata": {},
   "outputs": [],
   "source": [
    "model_2 = FeedforwardNN(input_size, hidden_size, output_size)\n",
    "model_2 = model_2.to(device)\n",
    "initial_weights = model_2.state_dict()"
   ]
  },
  {
   "cell_type": "code",
   "execution_count": 20,
   "id": "5ec3f2df",
   "metadata": {},
   "outputs": [
    {
     "data": {
      "text/plain": [
       "0.872578349236226"
      ]
     },
     "execution_count": 20,
     "metadata": {},
     "output_type": "execute_result"
    }
   ],
   "source": [
    "b = random_ball(1,20,1).reshape(-1).to(device)\n",
    "def reward_function_cos(context):\n",
    "    return np.cos(3*(torch.dot(context,b)).item()) + (0.1*torch.randn(1)).item()\n",
    "reward_function_cos(random_ball(1,20).to(device))"
   ]
  },
  {
   "cell_type": "code",
   "execution_count": 21,
   "id": "f4af46a7",
   "metadata": {
    "scrolled": true
   },
   "outputs": [
    {
     "name": "stderr",
     "output_type": "stream",
     "text": [
      "C:\\Users\\chana\\AppData\\Local\\Temp\\ipykernel_4712\\4264651518.py:9: UserWarning: To copy construct from a tensor, it is recommended to use sourceTensor.clone().detach() or sourceTensor.clone().detach().requires_grad_(True), rather than torch.tensor(sourceTensor).\n",
      "  rewards = torch.tensor(best_rewards).reshape(-1,1)\n"
     ]
    },
    {
     "name": "stdout",
     "output_type": "stream",
     "text": [
      "--------------------------------------\n",
      "Training NN step 50\n",
      "Cumulative Regret:  10.473871764129996\n",
      "--------------------------------------\n",
      "Training NN step 100\n",
      "Cumulative Regret:  24.83974068846825\n",
      "--------------------------------------\n",
      "Training NN step 150\n",
      "Cumulative Regret:  37.278428133942384\n",
      "--------------------------------------\n",
      "Training NN step 200\n",
      "Cumulative Regret:  48.38390147955445\n",
      "--------------------------------------\n",
      "Training NN step 250\n",
      "Cumulative Regret:  58.1380943797558\n",
      "--------------------------------------\n",
      "Training NN step 300\n",
      "Cumulative Regret:  68.9177648821119\n",
      "--------------------------------------\n",
      "Training NN step 350\n",
      "Cumulative Regret:  78.7011640145466\n",
      "--------------------------------------\n",
      "Training NN step 400\n",
      "Cumulative Regret:  89.11891005094972\n",
      "--------------------------------------\n",
      "Training NN step 450\n",
      "Cumulative Regret:  97.78436123216837\n",
      "--------------------------------------\n",
      "Training NN step 500\n",
      "Cumulative Regret:  108.43488054607994\n",
      "--------------------------------------\n",
      "Training NN step 550\n",
      "Cumulative Regret:  117.11955053032496\n",
      "--------------------------------------\n",
      "Training NN step 600\n",
      "Cumulative Regret:  124.18113145918733\n",
      "--------------------------------------\n",
      "Training NN step 650\n",
      "Cumulative Regret:  130.0791744614711\n",
      "--------------------------------------\n",
      "Training NN step 700\n",
      "Cumulative Regret:  136.08723793906262\n",
      "--------------------------------------\n",
      "Training NN step 750\n",
      "Cumulative Regret:  141.4324175766408\n",
      "--------------------------------------\n",
      "Training NN step 800\n",
      "Cumulative Regret:  145.45325041509838\n",
      "--------------------------------------\n",
      "Training NN step 850\n",
      "Cumulative Regret:  149.76226237278763\n",
      "--------------------------------------\n",
      "Training NN step 900\n",
      "Cumulative Regret:  151.7751978010242\n",
      "--------------------------------------\n",
      "Training NN step 950\n",
      "Cumulative Regret:  154.71213944299186\n",
      "--------------------------------------\n",
      "Training NN step 1000\n",
      "Cumulative Regret:  157.29204447534823\n"
     ]
    }
   ],
   "source": [
    "model_2,regrets_2 = NeuralUCB(model_2,reward_function_cos,initial_weights,1000)"
   ]
  },
  {
   "cell_type": "code",
   "execution_count": 22,
   "id": "cb1b764d",
   "metadata": {},
   "outputs": [
    {
     "data": {
      "image/png": "[encoded data removed]",
      "text/plain": [
       "<Figure size 432x288 with 1 Axes>"
      ]
     },
     "metadata": {
      "needs_background": "light"
     },
     "output_type": "display_data"
    }
   ],
   "source": [
    "plot_cumulative(regrets_2)"
   ]
  },
  {
   "cell_type": "markdown",
   "id": "fe969872",
   "metadata": {},
   "source": [
    "### Result Testing: Cos"
   ]
  },
  {
   "cell_type": "code",
   "execution_count": 23,
   "id": "a519dbec",
   "metadata": {},
   "outputs": [],
   "source": [
    "test = random_ball(4,20).to(device)"
   ]
  },
  {
   "cell_type": "code",
   "execution_count": 24,
   "id": "704d2305",
   "metadata": {},
   "outputs": [
    {
     "name": "stdout",
     "output_type": "stream",
     "text": [
      "idx_0 reward:  0.42986856224596226\n",
      "idx_1 reward:  0.9085290256161842\n",
      "idx_2 reward:  0.9792637002739956\n",
      "idx_3 reward:  0.7616334938679302\n"
     ]
    }
   ],
   "source": [
    "best_idx = 0\n",
    "best_reward = 0\n",
    "for idx,t in enumerate(test):\n",
    "    reward = reward_function_cos(t)\n",
    "    if reward>best_reward:\n",
    "        best_reward = reward\n",
    "        best_idx = idx\n",
    "    print(f'idx_{idx} reward: ',reward)"
   ]
  },
  {
   "cell_type": "code",
   "execution_count": 25,
   "id": "52deafac",
   "metadata": {},
   "outputs": [
    {
     "data": {
      "text/plain": [
       "tensor([[0.5564],\n",
       "        [0.8791],\n",
       "        [1.0369],\n",
       "        [0.8081]], device='cuda:0', grad_fn=<MulBackward0>)"
      ]
     },
     "execution_count": 25,
     "metadata": {},
     "output_type": "execute_result"
    }
   ],
   "source": [
    "model_2(test)"
   ]
  },
  {
   "cell_type": "code",
   "execution_count": null,
   "id": "4d341fcf",
   "metadata": {},
   "outputs": [],
   "source": []
  }
 ],
 "metadata": {
  "kernelspec": {
   "display_name": "Python 3 (ipykernel)",
   "language": "python",
   "name": "python3"
  },
  "language_info": {
   "codemirror_mode": {
    "name": "ipython",
    "version": 3
   },
   "file_extension": ".py",
   "mimetype": "text/x-python",
   "name": "python",
   "nbconvert_exporter": "python",
   "pygments_lexer": "ipython3",
   "version": "3.9.12"
  }
 },
 "nbformat": 4,
 "nbformat_minor": 5
}
