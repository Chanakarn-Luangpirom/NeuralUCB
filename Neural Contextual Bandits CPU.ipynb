{
 "cells": [
  {
   "cell_type": "code",
   "execution_count": 392,
   "id": "641fb798",
   "metadata": {},
   "outputs": [],
   "source": [
    "import pandas as pd\n",
    "import torch\n",
    "import torch.nn as nn\n",
    "import torch.optim as optim\n",
    "import numpy as np\n",
    "from torch.utils.data import DataLoader, TensorDataset\n",
    "import matplotlib.pyplot as plt"
   ]
  },
  {
   "cell_type": "code",
   "execution_count": 393,
   "id": "d8992854",
   "metadata": {},
   "outputs": [
    {
     "name": "stdout",
     "output_type": "stream",
     "text": [
      "FeedforwardNN(\n",
      "  (layer1): Linear(in_features=20, out_features=20, bias=True)\n",
      "  (relu1): ReLU()\n",
      "  (output_layer): Linear(in_features=20, out_features=1, bias=True)\n",
      ")\n",
      "Output shape: torch.Size([1])\n"
     ]
    }
   ],
   "source": [
    "class FeedforwardNN(nn.Module):\n",
    "    def __init__(self, input_size, hidden_size, output_size):\n",
    "        super(FeedforwardNN, self).__init__()\n",
    "        self.layer1 = nn.Linear(input_size, hidden_size) #bias = False?\n",
    "        self.relu1 = nn.ReLU()\n",
    "        self.output_layer = nn.Linear(hidden_size, output_size)\n",
    "        self.multiplier = np.sqrt(hidden_size)\n",
    "\n",
    "    def forward(self, x):\n",
    "        x = self.relu1(self.layer1(x))\n",
    "        x = self.output_layer(x)\n",
    "        x = x*self.multiplier\n",
    "        return x\n",
    "\n",
    "# Set random seed for reproducibility\n",
    "torch.manual_seed(42)\n",
    "\n",
    "# Define synthetic input data\n",
    "input_size = 20\n",
    "synthetic_input = torch.rand(input_size)\n",
    "\n",
    "# Instantiate the neural network\n",
    "hidden_size = 20\n",
    "output_size = 1\n",
    "model = FeedforwardNN(input_size, hidden_size, output_size)\n",
    "\n",
    "# Forward pass\n",
    "output = model(synthetic_input)\n",
    "\n",
    "# Print the architecture and output shape\n",
    "print(model)\n",
    "print(\"Output shape:\", output.shape)"
   ]
  },
  {
   "cell_type": "code",
   "execution_count": 394,
   "id": "2c14d186",
   "metadata": {},
   "outputs": [],
   "source": [
    "initial_weights = model.state_dict()"
   ]
  },
  {
   "cell_type": "code",
   "execution_count": 395,
   "id": "29f2b153",
   "metadata": {
    "scrolled": false
   },
   "outputs": [
    {
     "name": "stdout",
     "output_type": "stream",
     "text": [
      "Layer: layer1.weight, Size: torch.Size([20, 20])\n",
      "Layer: output_layer.weight, Size: torch.Size([1, 20])\n",
      "Number of parameters: 420\n"
     ]
    }
   ],
   "source": [
    "p = 0\n",
    "for name, param in model.named_parameters():\n",
    "    if 'weight' in name:\n",
    "        x,y = param.size()\n",
    "        p += x*y\n",
    "        print(f'Layer: {name}, Size: {param.size()}')\n",
    "print('Number of parameters:',p)"
   ]
  },
  {
   "cell_type": "code",
   "execution_count": 396,
   "id": "6d8d524e",
   "metadata": {},
   "outputs": [],
   "source": [
    "def random_ball(num_points,dimension,radius = 1):\n",
    "    output = []\n",
    "    for n in range(num_points):\n",
    "        x = np.random.randn(20)\n",
    "        x /= np.linalg.norm(x, ord=2)\n",
    "        x = torch.tensor(x,dtype = torch.float32)\n",
    "        if num_points == 1:\n",
    "            return x\n",
    "        output.append(x)\n",
    "    return torch.stack(output)"
   ]
  },
  {
   "cell_type": "code",
   "execution_count": 397,
   "id": "7ecf0156",
   "metadata": {},
   "outputs": [
    {
     "data": {
      "text/plain": [
       "2.1344616785645485"
      ]
     },
     "execution_count": 397,
     "metadata": {},
     "output_type": "execute_result"
    }
   ],
   "source": [
    "# Simulated Reward Function\n",
    "# Careful: Adding noise breaks it as the noise takes over. But noise doesn't break if the reward is high\n",
    "a = random_ball(1,20,1).reshape(-1)\n",
    "def reward_function(context):\n",
    "    return 10*(torch.dot(context,a)**2).item() + (0.1*torch.randn(1)).item()\n",
    "reward_function(torch.rand(20))"
   ]
  },
  {
   "cell_type": "code",
   "execution_count": 398,
   "id": "f972c8a7",
   "metadata": {},
   "outputs": [],
   "source": [
    "class CustomLoss(nn.Module):\n",
    "    def __init__(self):\n",
    "        super(CustomLoss, self).__init__()\n",
    "\n",
    "    def forward(self, predicted, target,flattened_initial_weights,flattened_current_weights):\n",
    "        loss = (0.5*torch.sum((predicted - target)**2))/target.shape[0]\n",
    "#         m = 20\n",
    "#         lamb = 1\n",
    "#         norm = 0.5*m*lamb*(torch.norm(flattened_initial_weights - flattened_current_weights, p=2)**2)\n",
    "        return loss"
   ]
  },
  {
   "cell_type": "code",
   "execution_count": 399,
   "id": "c1ac7cee",
   "metadata": {},
   "outputs": [],
   "source": [
    "def train_nn(input_data,best_rewards,initial_weights,J = 20):\n",
    "    model_inside = FeedforwardNN(input_size, hidden_size, output_size)\n",
    "    model_inside.load_state_dict(initial_weights)\n",
    "\n",
    "    loss_function = CustomLoss()\n",
    "\n",
    "    optimizer = optim.SGD(model_inside.parameters(),lr = 0.001) # Need to fix to GD?\n",
    "    size = len(input_data)\n",
    "    rewards = torch.tensor(best_rewards).reshape(-1,1)\n",
    "    dataset = TensorDataset(input_data,rewards)\n",
    "#     print('dataset',input_data)\n",
    "#     print('r',rewards)\n",
    "\n",
    "    batch_size = 50\n",
    "    shuffle = True  # Set to True if you want to shuffle the data\n",
    "    data_loader = DataLoader(dataset, batch_size=batch_size, shuffle=shuffle)    \n",
    "\n",
    "    flattened_initial_weights = torch.cat([p.flatten() for p in initial_weights.values()])\n",
    "    \n",
    "    for j in range(J):\n",
    "        for inputs,targets in data_loader:\n",
    "            optimizer.zero_grad()\n",
    "            output = model_inside(inputs)\n",
    "            current_weights = model_inside.state_dict()\n",
    "            flattened_current_weights = torch.cat([p.flatten() for p in current_weights.values()])\n",
    "            loss = loss_function(output, targets,flattened_initial_weights,flattened_current_weights)\n",
    "            loss.backward()\n",
    "            optimizer.step()\n",
    "    print('loss j',j,loss)\n",
    "        \n",
    "    print('--------------------------------------')\n",
    "\n",
    "    model_weights = model_inside.state_dict()\n",
    "    return model_weights"
   ]
  },
  {
   "cell_type": "code",
   "execution_count": 400,
   "id": "3cac29ae",
   "metadata": {},
   "outputs": [],
   "source": [
    "def get_regret(data,best_action,reward_function):\n",
    "    best_reward = -np.inf\n",
    "    rewards = []\n",
    "    for idx,t in enumerate(data):\n",
    "        reward = reward_function(t)\n",
    "        if reward > best_reward:\n",
    "            best_reward = reward\n",
    "            best_idx = idx\n",
    "            \n",
    "        rewards.append(reward)\n",
    "            \n",
    "    chosen_reward = rewards[best_action]\n",
    "    regret = best_reward - chosen_reward\n",
    "    return regret"
   ]
  },
  {
   "cell_type": "code",
   "execution_count": 401,
   "id": "25b92b65",
   "metadata": {},
   "outputs": [],
   "source": [
    "def NeuralUCB(model, T, lamb = 0.2, v = 0.2, delta = 0.2, norm = 0.2, step_size = 0.2, num_iter = 10):\n",
    "    Z = torch.eye(p)\n",
    "    K = 4\n",
    "    dim = 20 # feature vector dimension (context)\n",
    "    m = 20 # Neural Network width\n",
    "    gamma = 1\n",
    "    best_contexts = []\n",
    "    best_rewards = []\n",
    "    regrets = []\n",
    "    for t in range(T):\n",
    "#         synthetic_input = torch.rand(K,dim)\n",
    "        synthetic_input = random_ball(K,dim) # \"K\" arms x \"dim\" feature size\n",
    "        all_grad = []\n",
    "        ucbs = []\n",
    "        for k in range(K):\n",
    "            output = model(synthetic_input[k])\n",
    "            model.zero_grad()\n",
    "            output.backward(torch.ones_like(output),retain_graph = True)\n",
    "            g = []\n",
    "            for name, param in model.named_parameters():\n",
    "                if 'weight' in name:\n",
    "                    tmp = param.grad.flatten()\n",
    "                    g.append(tmp)\n",
    "            g = torch.cat(g,dim = 0).reshape(-1,1)\n",
    "    \n",
    "    \n",
    "            Z_inv = torch.inverse(Z)\n",
    "            \n",
    "            \n",
    "            all_grad.append(g)\n",
    "            exploration_reward = gamma*torch.sqrt((g.T@Z_inv@g)/m) \n",
    "            ucb_a = output + exploration_reward\n",
    "            ucbs.append(ucb_a.item())\n",
    "            \n",
    "            \n",
    "        ucbs = torch.tensor(ucbs)\n",
    "        best_action = torch.argmax(ucbs).item()\n",
    "        best_context = synthetic_input[best_action]\n",
    "        best_g = all_grad[best_action]\n",
    "        best_reward = reward_function(best_context)\n",
    "        Z = Z + (best_g@best_g.T/m)\n",
    "        \n",
    "        best_contexts.append(best_context)\n",
    "        \n",
    "        \n",
    "        best_rewards.append(best_reward)\n",
    "        \n",
    "        \n",
    "        \n",
    "        if (t+1)%50 == 0:\n",
    "            ### Train Neural Network\n",
    "            new_weights = train_nn(torch.stack(best_contexts),torch.tensor(best_rewards),initial_weights,J = t+1)\n",
    "            model.load_state_dict(new_weights)\n",
    "            print(f'Training NN step {t+1}')\n",
    "            print(np.sum(regrets))\n",
    "\n",
    "        regret = get_regret(synthetic_input,best_action,reward_function)\n",
    "        regrets.append(regret)\n",
    "        \n",
    "        # Update gamma: To be updated        \n",
    "        \n",
    "        \n",
    "        \n",
    "    return model,regrets"
   ]
  },
  {
   "cell_type": "markdown",
   "id": "c8b6ed53",
   "metadata": {},
   "source": [
    "### Quadratic function"
   ]
  },
  {
   "cell_type": "code",
   "execution_count": 402,
   "id": "144eb333",
   "metadata": {
    "scrolled": true
   },
   "outputs": [
    {
     "name": "stderr",
     "output_type": "stream",
     "text": [
      "C:\\Users\\chana\\AppData\\Local\\Temp\\ipykernel_17480\\3245520253.py:9: UserWarning: To copy construct from a tensor, it is recommended to use sourceTensor.clone().detach() or sourceTensor.clone().detach().requires_grad_(True), rather than torch.tensor(sourceTensor).\n",
      "  rewards = torch.tensor(best_rewards).reshape(-1,1)\n"
     ]
    },
    {
     "name": "stdout",
     "output_type": "stream",
     "text": [
      "loss j 49 tensor(0.3672, grad_fn=<DivBackward0>)\n",
      "--------------------------------------\n",
      "Training NN step 50\n",
      "39.07221081947495\n",
      "loss j 99 tensor(0.3424, grad_fn=<DivBackward0>)\n",
      "--------------------------------------\n",
      "Training NN step 100\n",
      "68.22902163723364\n",
      "loss j 149 tensor(0.2714, grad_fn=<DivBackward0>)\n",
      "--------------------------------------\n",
      "Training NN step 150\n",
      "104.66749203848002\n",
      "loss j 199 tensor(0.3341, grad_fn=<DivBackward0>)\n",
      "--------------------------------------\n",
      "Training NN step 200\n",
      "139.58290636080994\n",
      "loss j 249 tensor(0.1742, grad_fn=<DivBackward0>)\n",
      "--------------------------------------\n",
      "Training NN step 250\n",
      "179.34657465164048\n",
      "loss j 299 tensor(0.2001, grad_fn=<DivBackward0>)\n",
      "--------------------------------------\n",
      "Training NN step 300\n",
      "197.88991938407264\n",
      "loss j 349 tensor(0.0861, grad_fn=<DivBackward0>)\n",
      "--------------------------------------\n",
      "Training NN step 350\n",
      "221.11209354708728\n",
      "loss j 399 tensor(0.0837, grad_fn=<DivBackward0>)\n",
      "--------------------------------------\n",
      "Training NN step 400\n",
      "238.1005746999773\n",
      "loss j 449 tensor(0.0519, grad_fn=<DivBackward0>)\n",
      "--------------------------------------\n",
      "Training NN step 450\n",
      "245.98698559716752\n",
      "loss j 499 tensor(0.0295, grad_fn=<DivBackward0>)\n",
      "--------------------------------------\n",
      "Training NN step 500\n",
      "249.3181200422888\n",
      "loss j 549 tensor(0.0199, grad_fn=<DivBackward0>)\n",
      "--------------------------------------\n",
      "Training NN step 550\n",
      "251.44714859345288\n",
      "loss j 599 tensor(0.0205, grad_fn=<DivBackward0>)\n",
      "--------------------------------------\n",
      "Training NN step 600\n",
      "253.01859257727222\n",
      "loss j 649 tensor(0.0228, grad_fn=<DivBackward0>)\n",
      "--------------------------------------\n",
      "Training NN step 650\n",
      "254.20823964490148\n",
      "loss j 699 tensor(0.0300, grad_fn=<DivBackward0>)\n",
      "--------------------------------------\n",
      "Training NN step 700\n",
      "254.81424332097697\n",
      "loss j 749 tensor(0.0195, grad_fn=<DivBackward0>)\n",
      "--------------------------------------\n",
      "Training NN step 750\n",
      "255.7946031248622\n",
      "loss j 799 tensor(0.0151, grad_fn=<DivBackward0>)\n",
      "--------------------------------------\n",
      "Training NN step 800\n",
      "257.2784755235963\n",
      "loss j 849 tensor(0.0118, grad_fn=<DivBackward0>)\n",
      "--------------------------------------\n",
      "Training NN step 850\n",
      "257.3451596420683\n",
      "loss j 899 tensor(0.0081, grad_fn=<DivBackward0>)\n",
      "--------------------------------------\n",
      "Training NN step 900\n",
      "258.49875310775417\n",
      "loss j 949 tensor(0.0116, grad_fn=<DivBackward0>)\n",
      "--------------------------------------\n",
      "Training NN step 950\n",
      "259.5565516514663\n",
      "loss j 999 tensor(0.0053, grad_fn=<DivBackward0>)\n",
      "--------------------------------------\n",
      "Training NN step 1000\n",
      "261.0280403675471\n"
     ]
    }
   ],
   "source": [
    "model,regrets = NeuralUCB(model,1000)"
   ]
  },
  {
   "cell_type": "code",
   "execution_count": 403,
   "id": "e2652823",
   "metadata": {},
   "outputs": [],
   "source": [
    "def plot_cumulative(data):\n",
    "    cumulative_sum = np.cumsum(data)\n",
    "    plt.plot(cumulative_sum)\n",
    "    plt.xlabel('Index')\n",
    "    plt.ylabel('Cumulative Sum')\n",
    "    plt.title('Cumulative Sum Plot')\n",
    "    plt.grid(True)\n",
    "    plt.show()"
   ]
  },
  {
   "cell_type": "code",
   "execution_count": 404,
   "id": "82742341",
   "metadata": {},
   "outputs": [
    {
     "data": {
      "image/png": "[encoded data removed]",
      "text/plain": [
       "<Figure size 432x288 with 1 Axes>"
      ]
     },
     "metadata": {
      "needs_background": "light"
     },
     "output_type": "display_data"
    }
   ],
   "source": [
    "plot_cumulative(regrets)"
   ]
  },
  {
   "cell_type": "markdown",
   "id": "615a1fa4",
   "metadata": {},
   "source": [
    "## cos function"
   ]
  },
  {
   "cell_type": "code",
   "execution_count": 410,
   "id": "5ec3f2df",
   "metadata": {},
   "outputs": [
    {
     "data": {
      "text/plain": [
       "0.6615888421660129"
      ]
     },
     "execution_count": 410,
     "metadata": {},
     "output_type": "execute_result"
    }
   ],
   "source": [
    "a = random_ball(1,20,1).reshape(-1)\n",
    "def reward_function(context):\n",
    "    return np.cos(3*(torch.dot(context,a)).item()) + (0.1*torch.randn(1)).item()\n",
    "reward_function(torch.rand(20))"
   ]
  },
  {
   "cell_type": "code",
   "execution_count": 411,
   "id": "f4af46a7",
   "metadata": {},
   "outputs": [
    {
     "name": "stderr",
     "output_type": "stream",
     "text": [
      "C:\\Users\\chana\\AppData\\Local\\Temp\\ipykernel_17480\\3245520253.py:9: UserWarning: To copy construct from a tensor, it is recommended to use sourceTensor.clone().detach() or sourceTensor.clone().detach().requires_grad_(True), rather than torch.tensor(sourceTensor).\n",
      "  rewards = torch.tensor(best_rewards).reshape(-1,1)\n"
     ]
    },
    {
     "name": "stdout",
     "output_type": "stream",
     "text": [
      "loss j 49 tensor(0.0290, dtype=torch.float64, grad_fn=<DivBackward0>)\n",
      "--------------------------------------\n",
      "Training NN step 50\n",
      "9.04425505506133\n",
      "loss j 99 tensor(0.0428, dtype=torch.float64, grad_fn=<DivBackward0>)\n",
      "--------------------------------------\n",
      "Training NN step 100\n",
      "19.557647396251593\n",
      "loss j 149 tensor(0.0279, dtype=torch.float64, grad_fn=<DivBackward0>)\n",
      "--------------------------------------\n",
      "Training NN step 150\n",
      "33.703277594538974\n",
      "loss j 199 tensor(0.0625, dtype=torch.float64, grad_fn=<DivBackward0>)\n",
      "--------------------------------------\n",
      "Training NN step 200\n",
      "43.46880265520119\n",
      "loss j 249 tensor(0.0475, dtype=torch.float64, grad_fn=<DivBackward0>)\n",
      "--------------------------------------\n",
      "Training NN step 250\n",
      "54.37866910040106\n",
      "loss j 299 tensor(0.0388, dtype=torch.float64, grad_fn=<DivBackward0>)\n",
      "--------------------------------------\n",
      "Training NN step 300\n",
      "64.28362073740006\n",
      "loss j 349 tensor(0.0241, dtype=torch.float64, grad_fn=<DivBackward0>)\n",
      "--------------------------------------\n",
      "Training NN step 350\n",
      "77.79872134283411\n",
      "loss j 399 tensor(0.0601, dtype=torch.float64, grad_fn=<DivBackward0>)\n",
      "--------------------------------------\n",
      "Training NN step 400\n",
      "90.31801100778965\n",
      "loss j 449 tensor(0.0236, dtype=torch.float64, grad_fn=<DivBackward0>)\n",
      "--------------------------------------\n",
      "Training NN step 450\n",
      "101.92488716817354\n",
      "loss j 499 tensor(0.0353, dtype=torch.float64, grad_fn=<DivBackward0>)\n",
      "--------------------------------------\n",
      "Training NN step 500\n",
      "108.90442738942593\n",
      "loss j 549 tensor(0.0360, dtype=torch.float64, grad_fn=<DivBackward0>)\n",
      "--------------------------------------\n",
      "Training NN step 550\n",
      "118.02821563628052\n",
      "loss j 599 tensor(0.0444, dtype=torch.float64, grad_fn=<DivBackward0>)\n",
      "--------------------------------------\n",
      "Training NN step 600\n",
      "125.0380382192954\n",
      "loss j 649 tensor(0.0164, dtype=torch.float64, grad_fn=<DivBackward0>)\n",
      "--------------------------------------\n",
      "Training NN step 650\n",
      "135.36981305543299\n",
      "loss j 699 tensor(0.0152, dtype=torch.float64, grad_fn=<DivBackward0>)\n",
      "--------------------------------------\n",
      "Training NN step 700\n",
      "140.02833803078215\n",
      "loss j 749 tensor(0.0141, dtype=torch.float64, grad_fn=<DivBackward0>)\n",
      "--------------------------------------\n",
      "Training NN step 750\n",
      "146.75939623312854\n",
      "loss j 799 tensor(0.0095, dtype=torch.float64, grad_fn=<DivBackward0>)\n",
      "--------------------------------------\n",
      "Training NN step 800\n",
      "151.0394841364007\n",
      "loss j 849 tensor(0.0064, dtype=torch.float64, grad_fn=<DivBackward0>)\n",
      "--------------------------------------\n",
      "Training NN step 850\n",
      "156.52874130963573\n",
      "loss j 899 tensor(0.0088, dtype=torch.float64, grad_fn=<DivBackward0>)\n",
      "--------------------------------------\n",
      "Training NN step 900\n",
      "159.24510524718406\n",
      "loss j 949 tensor(0.0051, dtype=torch.float64, grad_fn=<DivBackward0>)\n",
      "--------------------------------------\n",
      "Training NN step 950\n",
      "162.57764363688068\n",
      "loss j 999 tensor(0.0073, dtype=torch.float64, grad_fn=<DivBackward0>)\n",
      "--------------------------------------\n",
      "Training NN step 1000\n",
      "164.71338418658195\n"
     ]
    }
   ],
   "source": [
    "model,regrets = NeuralUCB(model,1000)"
   ]
  },
  {
   "cell_type": "code",
   "execution_count": 412,
   "id": "cb1b764d",
   "metadata": {},
   "outputs": [
    {
     "data": {
      "image/png": "[encoded data removed]",
      "text/plain": [
       "<Figure size 432x288 with 1 Axes>"
      ]
     },
     "metadata": {
      "needs_background": "light"
     },
     "output_type": "display_data"
    }
   ],
   "source": [
    "plot_cumulative(regrets)"
   ]
  },
  {
   "cell_type": "markdown",
   "id": "708a694e",
   "metadata": {},
   "source": [
    "### Result Testing"
   ]
  },
  {
   "cell_type": "code",
   "execution_count": 416,
   "id": "890a2951",
   "metadata": {},
   "outputs": [],
   "source": [
    "test = torch.rand((4,20))"
   ]
  },
  {
   "cell_type": "code",
   "execution_count": 417,
   "id": "fae6dff8",
   "metadata": {},
   "outputs": [
    {
     "name": "stdout",
     "output_type": "stream",
     "text": [
      "idx_0 reward:  0.9955467944920006\n",
      "idx_1 reward:  0.3881474446373362\n",
      "idx_2 reward:  0.9013709389045763\n",
      "idx_3 reward:  0.37688870821503956\n"
     ]
    }
   ],
   "source": [
    "best_idx = 0\n",
    "best_reward = 0\n",
    "for idx,t in enumerate(test):\n",
    "    reward = reward_function(t)\n",
    "    if reward>best_reward:\n",
    "        best_reward = reward\n",
    "        best_idx = idx\n",
    "    print(f'idx_{idx} reward: ',reward)"
   ]
  },
  {
   "cell_type": "code",
   "execution_count": 418,
   "id": "d3b4cdfd",
   "metadata": {},
   "outputs": [
    {
     "data": {
      "text/plain": [
       "tensor([[1.0867],\n",
       "        [0.0552],\n",
       "        [0.9396],\n",
       "        [0.3019]], grad_fn=<MulBackward0>)"
      ]
     },
     "execution_count": 418,
     "metadata": {},
     "output_type": "execute_result"
    }
   ],
   "source": [
    "model(test)"
   ]
  },
  {
   "cell_type": "code",
   "execution_count": null,
   "id": "4aa047ec",
   "metadata": {},
   "outputs": [],
   "source": []
  },
  {
   "cell_type": "code",
   "execution_count": null,
   "id": "a519dbec",
   "metadata": {},
   "outputs": [],
   "source": []
  },
  {
   "cell_type": "code",
   "execution_count": null,
   "id": "704d2305",
   "metadata": {},
   "outputs": [],
   "source": []
  }
 ],
 "metadata": {
  "kernelspec": {
   "display_name": "Python 3 (ipykernel)",
   "language": "python",
   "name": "python3"
  },
  "language_info": {
   "codemirror_mode": {
    "name": "ipython",
    "version": 3
   },
   "file_extension": ".py",
   "mimetype": "text/x-python",
   "name": "python",
   "nbconvert_exporter": "python",
   "pygments_lexer": "ipython3",
   "version": "3.9.12"
  }
 },
 "nbformat": 4,
 "nbformat_minor": 5
}
