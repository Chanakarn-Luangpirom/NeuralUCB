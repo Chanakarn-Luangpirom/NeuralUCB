{
 "cells": [
  {
   "cell_type": "code",
   "execution_count": 83,
   "id": "641fb798",
   "metadata": {},
   "outputs": [],
   "source": [
    "import pandas as pd\n",
    "import torch\n",
    "import torch.nn as nn\n",
    "import torch.optim as optim\n",
    "import numpy as np\n",
    "from torch.utils.data import DataLoader, TensorDataset\n",
    "import matplotlib.pyplot as plt"
   ]
  },
  {
   "cell_type": "code",
   "execution_count": 84,
   "id": "f48f3888",
   "metadata": {},
   "outputs": [
    {
     "data": {
      "text/plain": [
       "device(type='cuda', index=0)"
      ]
     },
     "execution_count": 84,
     "metadata": {},
     "output_type": "execute_result"
    }
   ],
   "source": [
    "device = torch.device('cuda:0' if torch.cuda.is_available() else 'cpu')\n",
    "device"
   ]
  },
  {
   "cell_type": "code",
   "execution_count": 85,
   "id": "d8992854",
   "metadata": {},
   "outputs": [
    {
     "name": "stdout",
     "output_type": "stream",
     "text": [
      "FeedforwardNN(\n",
      "  (layer1): Linear(in_features=20, out_features=20, bias=True)\n",
      "  (relu1): ReLU()\n",
      "  (output_layer): Linear(in_features=20, out_features=1, bias=True)\n",
      ")\n",
      "Output shape: torch.Size([1])\n"
     ]
    }
   ],
   "source": [
    "class FeedforwardNN(nn.Module):\n",
    "    def __init__(self, input_size, hidden_size, output_size):\n",
    "        super(FeedforwardNN, self).__init__()\n",
    "        self.layer1 = nn.Linear(input_size, hidden_size) #bias = False?\n",
    "        self.relu1 = nn.ReLU()\n",
    "        self.output_layer = nn.Linear(hidden_size, output_size)\n",
    "        self.multiplier = np.sqrt(hidden_size)\n",
    "\n",
    "    def forward(self, x):\n",
    "        x = self.relu1(self.layer1(x))\n",
    "        x = self.output_layer(x)\n",
    "        x = x*self.multiplier\n",
    "        return x\n",
    "\n",
    "# Set random seed for reproducibility\n",
    "torch.manual_seed(42)\n",
    "\n",
    "# Define synthetic input data\n",
    "input_size = 20\n",
    "synthetic_input = torch.rand(input_size)\n",
    "\n",
    "# Instantiate the neural network\n",
    "hidden_size = 20\n",
    "output_size = 1\n",
    "model_1 = FeedforwardNN(input_size, hidden_size, output_size)\n",
    "\n",
    "# Forward pass\n",
    "output = model_1(synthetic_input)\n",
    "\n",
    "# To GPU\n",
    "model_1 = model_1.to(device)\n",
    "\n",
    "# Print the architecture and output shape\n",
    "print(model)\n",
    "print(\"Output shape:\", output.shape)"
   ]
  },
  {
   "cell_type": "code",
   "execution_count": 86,
   "id": "2c14d186",
   "metadata": {},
   "outputs": [],
   "source": [
    "initial_weights = model_1.state_dict()"
   ]
  },
  {
   "cell_type": "code",
   "execution_count": 87,
   "id": "29f2b153",
   "metadata": {
    "scrolled": false
   },
   "outputs": [
    {
     "name": "stdout",
     "output_type": "stream",
     "text": [
      "Layer: layer1.weight, Size: torch.Size([20, 20])\n",
      "Layer: output_layer.weight, Size: torch.Size([1, 20])\n",
      "Number of parameters: 420\n"
     ]
    }
   ],
   "source": [
    "p = 0\n",
    "for name, param in model.named_parameters():\n",
    "    if 'weight' in name:\n",
    "        x,y = param.size()\n",
    "        p += x*y\n",
    "        print(f'Layer: {name}, Size: {param.size()}')\n",
    "print('Number of parameters:',p)"
   ]
  },
  {
   "cell_type": "code",
   "execution_count": 88,
   "id": "6d8d524e",
   "metadata": {},
   "outputs": [],
   "source": [
    "def random_ball(num_points,dimension,radius = 1):\n",
    "    output = []\n",
    "    for n in range(num_points):\n",
    "        x = np.random.randn(20)\n",
    "        x /= np.linalg.norm(x, ord=2)\n",
    "        x = torch.tensor(x,dtype = torch.float32)\n",
    "        if num_points == 1:\n",
    "            return x\n",
    "        output.append(x)\n",
    "    return torch.stack(output)"
   ]
  },
  {
   "cell_type": "code",
   "execution_count": 89,
   "id": "7ecf0156",
   "metadata": {},
   "outputs": [
    {
     "data": {
      "text/plain": [
       "0.011334898881614208"
      ]
     },
     "execution_count": 89,
     "metadata": {},
     "output_type": "execute_result"
    }
   ],
   "source": [
    "# Careful: Adding too much noise breaks it as the noise takes over. But noise doesn't break if the reward is high\n",
    "\n",
    "a = random_ball(1,20,1).reshape(-1).to(device)\n",
    "def reward_function_quadratic(context):\n",
    "#     return 10*(torch.dot(context,a)**2).item() + (0.1*torch.randn(1)).item()\n",
    "    return 10*(torch.dot(context,a)**2).item()\n",
    "reward_function_quadratic(random_ball(1,20).to(device))"
   ]
  },
  {
   "cell_type": "code",
   "execution_count": 90,
   "id": "f972c8a7",
   "metadata": {},
   "outputs": [],
   "source": [
    "class CustomLoss(nn.Module):\n",
    "    def __init__(self):\n",
    "        super(CustomLoss, self).__init__()\n",
    "\n",
    "    def forward(self, predicted, target,flattened_initial_weights,flattened_current_weights):\n",
    "        loss = (0.5*torch.sum((predicted - target)**2))/target.shape[0]\n",
    "        m = 20\n",
    "        lamb = 1\n",
    "        norm = 0.5*m*lamb*(torch.norm(flattened_initial_weights - flattened_current_weights, p=2)**2)\n",
    "        return loss + norm"
   ]
  },
  {
   "cell_type": "code",
   "execution_count": 91,
   "id": "c1ac7cee",
   "metadata": {},
   "outputs": [],
   "source": [
    "def train_nn(input_data,best_rewards,initial_weights,step_size, J = 20):\n",
    "    model_inside = FeedforwardNN(input_size, hidden_size, output_size).to(device)\n",
    "    model_inside.load_state_dict(initial_weights)\n",
    "\n",
    "    loss_function = CustomLoss()\n",
    "\n",
    "    optimizer = optim.SGD(model_inside.parameters(),lr = step_size) # Need to fix to GD?\n",
    "    size = len(input_data)\n",
    "    rewards = torch.tensor(best_rewards).reshape(-1,1)\n",
    "    dataset = TensorDataset(input_data,rewards)\n",
    "    \n",
    "    batch_size = 50\n",
    "    shuffle = True  # Set to True if you want to shuffle the data\n",
    "    data_loader = DataLoader(dataset, batch_size=batch_size, shuffle=shuffle)    \n",
    "\n",
    "    flattened_initial_weights = torch.cat([p.flatten() for p in initial_weights.values()])\n",
    "    \n",
    "    for j in range(J):\n",
    "        for inputs,targets in data_loader:\n",
    "            inputs, targets = inputs.to(device), targets.to(device)\n",
    "            optimizer.zero_grad()\n",
    "            output = model_inside(inputs)\n",
    "            current_weights = model_inside.state_dict()\n",
    "            flattened_current_weights = torch.cat([p.flatten() for p in current_weights.values()])\n",
    "            loss = loss_function(output, targets,flattened_initial_weights,flattened_current_weights)\n",
    "            loss.backward()\n",
    "            optimizer.step()\n",
    "        \n",
    "    print('--------------------------------------')\n",
    "\n",
    "    model_weights = model_inside.state_dict()\n",
    "    return model_weights"
   ]
  },
  {
   "cell_type": "code",
   "execution_count": 92,
   "id": "3cac29ae",
   "metadata": {},
   "outputs": [],
   "source": [
    "def get_regret(data,best_action,reward_function):\n",
    "    best_reward = -np.inf\n",
    "    rewards = []\n",
    "    for idx,t in enumerate(data):\n",
    "        reward = reward_function(t)\n",
    "        if reward > best_reward:\n",
    "            best_reward = reward\n",
    "            best_idx = idx\n",
    "            \n",
    "        rewards.append(reward)\n",
    "            \n",
    "    chosen_reward = rewards[best_action]\n",
    "    regret = best_reward - chosen_reward\n",
    "    return regret"
   ]
  },
  {
   "cell_type": "code",
   "execution_count": 94,
   "id": "25b92b65",
   "metadata": {},
   "outputs": [],
   "source": [
    "def NeuralUCB(model,reward_function, T, lamb = 1, step_size = 0.001):\n",
    "    Z = lamb * torch.eye(p).to(device)\n",
    "    K = 4\n",
    "    dim = 20 # feature vector dimension (context)\n",
    "    m = 20 # Neural Network width\n",
    "    gamma = 1\n",
    "    best_contexts = []\n",
    "    best_rewards = []\n",
    "    regrets = []\n",
    "    for t in range(T):\n",
    "        synthetic_input = random_ball(K,dim).to(device) # \"K\" arms x \"dim\" feature size\n",
    "        all_grad = []\n",
    "        ucbs = []\n",
    "        for k in range(K):\n",
    "            output = model(synthetic_input[k])\n",
    "            model.zero_grad()\n",
    "            output.backward(torch.ones_like(output),retain_graph = True)\n",
    "            g = []\n",
    "            for name, param in model.named_parameters():\n",
    "                if 'weight' in name:\n",
    "                    tmp = param.grad.flatten()\n",
    "                    g.append(tmp)\n",
    "            g = torch.cat(g,dim = 0).reshape(-1,1).to(device)\n",
    "    \n",
    "    \n",
    "            Z_inv = torch.inverse(Z)\n",
    "            \n",
    "            \n",
    "            all_grad.append(g)\n",
    "            exploration_reward = gamma*torch.sqrt((g.T@Z_inv@g)/m) \n",
    "            ucb_a = output + exploration_reward\n",
    "            ucbs.append(ucb_a.item())\n",
    "            \n",
    "            \n",
    "        ucbs = torch.tensor(ucbs)\n",
    "        best_action = torch.argmax(ucbs).item()\n",
    "        best_context = synthetic_input[best_action]\n",
    "        best_g = all_grad[best_action]\n",
    "        best_reward = reward_function(best_context)\n",
    "        Z = Z + (best_g@best_g.T/m)\n",
    "        \n",
    "        best_contexts.append(best_context)\n",
    "        \n",
    "        \n",
    "        best_rewards.append(best_reward)\n",
    "        \n",
    "        \n",
    "        \n",
    "        if (t+1)%50 == 0:\n",
    "            ### Train Neural Network\n",
    "            new_weights = train_nn(torch.stack(best_contexts),\n",
    "                                   torch.tensor(best_rewards),\n",
    "                                   initial_weights,\n",
    "                                   step_size = step_size,\n",
    "                                   J = t+1)\n",
    "            model.load_state_dict(new_weights)\n",
    "            print(f'Training NN step {t+1}')\n",
    "            print('Cumulative Regret: ' , np.sum(regrets))\n",
    "\n",
    "        regret = get_regret(synthetic_input,best_action,reward_function)\n",
    "        regrets.append(regret)\n",
    "        \n",
    "        # Update gamma: To be updated        \n",
    "        \n",
    "        \n",
    "        \n",
    "    return model,regrets"
   ]
  },
  {
   "cell_type": "markdown",
   "id": "c8b6ed53",
   "metadata": {},
   "source": [
    "### Quadratic function"
   ]
  },
  {
   "cell_type": "code",
   "execution_count": 95,
   "id": "144eb333",
   "metadata": {
    "scrolled": true
   },
   "outputs": [
    {
     "name": "stderr",
     "output_type": "stream",
     "text": [
      "C:\\Users\\chana\\AppData\\Local\\Temp\\ipykernel_5232\\4264651518.py:9: UserWarning: To copy construct from a tensor, it is recommended to use sourceTensor.clone().detach() or sourceTensor.clone().detach().requires_grad_(True), rather than torch.tensor(sourceTensor).\n",
      "  rewards = torch.tensor(best_rewards).reshape(-1,1)\n"
     ]
    },
    {
     "name": "stdout",
     "output_type": "stream",
     "text": [
      "--------------------------------------\n",
      "Training NN step 50\n",
      "Cumulative Regret:  45.168156837147535\n",
      "--------------------------------------\n",
      "Training NN step 100\n",
      "Cumulative Regret:  74.55444007758217\n",
      "--------------------------------------\n",
      "Training NN step 150\n",
      "Cumulative Regret:  109.0338774816563\n",
      "--------------------------------------\n",
      "Training NN step 200\n",
      "Cumulative Regret:  149.7896138492415\n",
      "--------------------------------------\n",
      "Training NN step 250\n",
      "Cumulative Regret:  191.7851577132733\n",
      "--------------------------------------\n",
      "Training NN step 300\n",
      "Cumulative Regret:  218.0211024278451\n",
      "--------------------------------------\n",
      "Training NN step 350\n",
      "Cumulative Regret:  255.0691319026912\n",
      "--------------------------------------\n",
      "Training NN step 400\n",
      "Cumulative Regret:  284.24198550041115\n",
      "--------------------------------------\n",
      "Training NN step 450\n",
      "Cumulative Regret:  307.60616786239484\n",
      "--------------------------------------\n",
      "Training NN step 500\n",
      "Cumulative Regret:  325.5415655374229\n",
      "--------------------------------------\n",
      "Training NN step 550\n",
      "Cumulative Regret:  335.695568995797\n",
      "--------------------------------------\n",
      "Training NN step 600\n",
      "Cumulative Regret:  337.752822705733\n",
      "--------------------------------------\n",
      "Training NN step 650\n",
      "Cumulative Regret:  338.4207198146753\n",
      "--------------------------------------\n",
      "Training NN step 700\n",
      "Cumulative Regret:  339.07197197266146\n",
      "--------------------------------------\n",
      "Training NN step 750\n",
      "Cumulative Regret:  339.43518590945973\n",
      "--------------------------------------\n",
      "Training NN step 800\n",
      "Cumulative Regret:  339.5346961060561\n",
      "--------------------------------------\n",
      "Training NN step 850\n",
      "Cumulative Regret:  340.0374906493373\n",
      "--------------------------------------\n",
      "Training NN step 900\n",
      "Cumulative Regret:  340.71140617081187\n",
      "--------------------------------------\n",
      "Training NN step 950\n",
      "Cumulative Regret:  341.54620157503746\n",
      "--------------------------------------\n",
      "Training NN step 1000\n",
      "Cumulative Regret:  342.02576441784845\n"
     ]
    }
   ],
   "source": [
    "model_1,regrets_1 = NeuralUCB(model_1,reward_function_quadratic,1000)"
   ]
  },
  {
   "cell_type": "code",
   "execution_count": 96,
   "id": "e2652823",
   "metadata": {},
   "outputs": [],
   "source": [
    "def plot_cumulative(data):\n",
    "    cumulative_sum = np.cumsum(data)\n",
    "    plt.plot(cumulative_sum)\n",
    "    plt.xlabel('Index')\n",
    "    plt.ylabel('Cumulative Sum')\n",
    "    plt.title('Cumulative Sum Plot')\n",
    "    plt.grid(True)\n",
    "    plt.show()"
   ]
  },
  {
   "cell_type": "code",
   "execution_count": 97,
   "id": "82742341",
   "metadata": {},
   "outputs": [
    {
     "data": {
      "image/png": "[encoded data removed]",
      "text/plain": [
       "<Figure size 432x288 with 1 Axes>"
      ]
     },
     "metadata": {
      "needs_background": "light"
     },
     "output_type": "display_data"
    }
   ],
   "source": [
    "plot_cumulative(regrets_1)"
   ]
  },
  {
   "cell_type": "markdown",
   "id": "615a1fa4",
   "metadata": {},
   "source": [
    "## cos function"
   ]
  },
  {
   "cell_type": "code",
   "execution_count": 98,
   "id": "867e863e",
   "metadata": {},
   "outputs": [],
   "source": [
    "model_2 = FeedforwardNN(input_size, hidden_size, output_size)\n",
    "model_2 = model_2.to(device)\n",
    "initial_weights = model_2.state_dict()"
   ]
  },
  {
   "cell_type": "code",
   "execution_count": 99,
   "id": "5ec3f2df",
   "metadata": {},
   "outputs": [
    {
     "data": {
      "text/plain": [
       "0.9758040299147253"
      ]
     },
     "execution_count": 99,
     "metadata": {},
     "output_type": "execute_result"
    }
   ],
   "source": [
    "a = random_ball(1,20,1).reshape(-1).to(device)\n",
    "def reward_function_cos(context):\n",
    "#     return np.cos(3*(torch.dot(context,a)).item()) + (0.1*torch.randn(1)).item()\n",
    "    return np.cos(3*(torch.dot(context,a)).item())\n",
    "reward_function_cos(random_ball(1,20).to(device))"
   ]
  },
  {
   "cell_type": "code",
   "execution_count": 100,
   "id": "f4af46a7",
   "metadata": {
    "scrolled": true
   },
   "outputs": [
    {
     "name": "stderr",
     "output_type": "stream",
     "text": [
      "C:\\Users\\chana\\AppData\\Local\\Temp\\ipykernel_5232\\4264651518.py:9: UserWarning: To copy construct from a tensor, it is recommended to use sourceTensor.clone().detach() or sourceTensor.clone().detach().requires_grad_(True), rather than torch.tensor(sourceTensor).\n",
      "  rewards = torch.tensor(best_rewards).reshape(-1,1)\n"
     ]
    },
    {
     "name": "stdout",
     "output_type": "stream",
     "text": [
      "--------------------------------------\n",
      "Training NN step 50\n",
      "Cumulative Regret:  11.662173787851904\n",
      "--------------------------------------\n",
      "Training NN step 100\n",
      "Cumulative Regret:  19.38400291256239\n",
      "--------------------------------------\n",
      "Training NN step 150\n",
      "Cumulative Regret:  28.94013721369631\n",
      "--------------------------------------\n",
      "Training NN step 200\n",
      "Cumulative Regret:  39.63062203155017\n",
      "--------------------------------------\n",
      "Training NN step 250\n",
      "Cumulative Regret:  48.5333212273257\n",
      "--------------------------------------\n",
      "Training NN step 300\n",
      "Cumulative Regret:  57.52727181906832\n",
      "--------------------------------------\n",
      "Training NN step 350\n",
      "Cumulative Regret:  64.14103315228184\n",
      "--------------------------------------\n",
      "Training NN step 400\n",
      "Cumulative Regret:  71.52750596614095\n",
      "--------------------------------------\n",
      "Training NN step 450\n",
      "Cumulative Regret:  77.48958204645669\n",
      "--------------------------------------\n",
      "Training NN step 500\n",
      "Cumulative Regret:  81.77514215470117\n",
      "--------------------------------------\n",
      "Training NN step 550\n",
      "Cumulative Regret:  90.71189038437313\n",
      "--------------------------------------\n",
      "Training NN step 600\n",
      "Cumulative Regret:  97.76096149210164\n",
      "--------------------------------------\n",
      "Training NN step 650\n",
      "Cumulative Regret:  105.20708717958328\n",
      "--------------------------------------\n",
      "Training NN step 700\n",
      "Cumulative Regret:  113.31960801305857\n",
      "--------------------------------------\n",
      "Training NN step 750\n",
      "Cumulative Regret:  118.84820842523831\n",
      "--------------------------------------\n",
      "Training NN step 800\n",
      "Cumulative Regret:  123.55210489469715\n",
      "--------------------------------------\n",
      "Training NN step 850\n",
      "Cumulative Regret:  127.35699698865952\n",
      "--------------------------------------\n",
      "Training NN step 900\n",
      "Cumulative Regret:  131.1190873490821\n",
      "--------------------------------------\n",
      "Training NN step 950\n",
      "Cumulative Regret:  133.16234189709357\n",
      "--------------------------------------\n",
      "Training NN step 1000\n",
      "Cumulative Regret:  134.77256824652665\n"
     ]
    }
   ],
   "source": [
    "model_2,regrets_2 = NeuralUCB(model_2,reward_function_cos,1000)"
   ]
  },
  {
   "cell_type": "code",
   "execution_count": 101,
   "id": "cb1b764d",
   "metadata": {},
   "outputs": [
    {
     "data": {
      "image/png": "[encoded data removed]",
      "text/plain": [
       "<Figure size 432x288 with 1 Axes>"
      ]
     },
     "metadata": {
      "needs_background": "light"
     },
     "output_type": "display_data"
    }
   ],
   "source": [
    "plot_cumulative(regrets_2)"
   ]
  },
  {
   "cell_type": "markdown",
   "id": "708a694e",
   "metadata": {},
   "source": [
    "### Result Testing: Quadratic"
   ]
  },
  {
   "cell_type": "code",
   "execution_count": 120,
   "id": "1560c2ce",
   "metadata": {},
   "outputs": [
    {
     "name": "stdout",
     "output_type": "stream",
     "text": [
      "tensor([[-0.1073,  0.1777,  0.0918,  0.3539, -0.5695,  0.4650, -0.1477,  0.0625,\n",
      "          0.1288,  0.0721, -0.0913,  0.0154, -0.2701, -0.1398, -0.0930, -0.0077,\n",
      "          0.1921, -0.0907,  0.1911, -0.2092],\n",
      "        [-0.1115,  0.2102,  0.0686, -0.1705, -0.0616, -0.1127,  0.0391, -0.2115,\n",
      "         -0.1377,  0.2499,  0.2669, -0.0507, -0.2402, -0.0702, -0.2073,  0.1955,\n",
      "         -0.6406, -0.2854, -0.0167, -0.2361],\n",
      "        [ 0.0685,  0.0412, -0.4259, -0.1196, -0.0882, -0.0962, -0.0057, -0.0676,\n",
      "          0.0346, -0.0910, -0.3477,  0.3334,  0.2959, -0.2849,  0.2811, -0.2330,\n",
      "          0.1737,  0.2769, -0.0101,  0.3546],\n",
      "        [ 0.0293,  0.2087, -0.1164,  0.1694,  0.2786, -0.2941,  0.2323,  0.1200,\n",
      "          0.1202, -0.1626, -0.0307, -0.2314, -0.3516, -0.0258, -0.5653, -0.0014,\n",
      "          0.3379,  0.0718, -0.1325,  0.0701]], device='cuda:0')\n"
     ]
    }
   ],
   "source": [
    "test = random_ball(4,20).to(device)\n",
    "print(test)"
   ]
  },
  {
   "cell_type": "code",
   "execution_count": 121,
   "id": "fae6dff8",
   "metadata": {},
   "outputs": [
    {
     "name": "stdout",
     "output_type": "stream",
     "text": [
      "idx_0 reward:  0.07720309775322676\n",
      "idx_1 reward:  0.22185439243912697\n",
      "idx_2 reward:  0.001190077091450803\n",
      "idx_3 reward:  2.8516820073127747\n"
     ]
    }
   ],
   "source": [
    "best_idx = 0\n",
    "best_reward = 0\n",
    "for idx,t in enumerate(test):\n",
    "    reward = reward_function_quadratic(t)\n",
    "    if reward>best_reward:\n",
    "        best_reward = reward\n",
    "        best_idx = idx\n",
    "    print(f'idx_{idx} reward: ',reward)"
   ]
  },
  {
   "cell_type": "code",
   "execution_count": 122,
   "id": "d3b4cdfd",
   "metadata": {
    "scrolled": true
   },
   "outputs": [
    {
     "data": {
      "text/plain": [
       "tensor([[-0.0041],\n",
       "        [ 0.5695],\n",
       "        [ 0.8901],\n",
       "        [ 1.0503]], device='cuda:0', grad_fn=<MulBackward0>)"
      ]
     },
     "execution_count": 122,
     "metadata": {},
     "output_type": "execute_result"
    }
   ],
   "source": [
    "model_1(test)"
   ]
  },
  {
   "cell_type": "markdown",
   "id": "fe969872",
   "metadata": {},
   "source": [
    "### Result Testing: Cos"
   ]
  },
  {
   "cell_type": "code",
   "execution_count": 123,
   "id": "a519dbec",
   "metadata": {},
   "outputs": [],
   "source": [
    "test = random_ball(4,20).to(device)"
   ]
  },
  {
   "cell_type": "code",
   "execution_count": 124,
   "id": "704d2305",
   "metadata": {},
   "outputs": [
    {
     "name": "stdout",
     "output_type": "stream",
     "text": [
      "idx_0 reward:  0.4774932867786779\n",
      "idx_1 reward:  0.8696580362992166\n",
      "idx_2 reward:  0.9993214968694213\n",
      "idx_3 reward:  0.5309413908425611\n"
     ]
    }
   ],
   "source": [
    "best_idx = 0\n",
    "best_reward = 0\n",
    "for idx,t in enumerate(test):\n",
    "    reward = reward_function_cos(t)\n",
    "    if reward>best_reward:\n",
    "        best_reward = reward\n",
    "        best_idx = idx\n",
    "    print(f'idx_{idx} reward: ',reward)"
   ]
  },
  {
   "cell_type": "code",
   "execution_count": 125,
   "id": "52deafac",
   "metadata": {},
   "outputs": [
    {
     "data": {
      "text/plain": [
       "tensor([[0.5444],\n",
       "        [0.8273],\n",
       "        [0.9741],\n",
       "        [0.5354]], device='cuda:0', grad_fn=<MulBackward0>)"
      ]
     },
     "execution_count": 125,
     "metadata": {},
     "output_type": "execute_result"
    }
   ],
   "source": [
    "model_2(test)"
   ]
  },
  {
   "cell_type": "code",
   "execution_count": null,
   "id": "4d341fcf",
   "metadata": {},
   "outputs": [],
   "source": []
  }
 ],
 "metadata": {
  "kernelspec": {
   "display_name": "Python 3 (ipykernel)",
   "language": "python",
   "name": "python3"
  },
  "language_info": {
   "codemirror_mode": {
    "name": "ipython",
    "version": 3
   },
   "file_extension": ".py",
   "mimetype": "text/x-python",
   "name": "python",
   "nbconvert_exporter": "python",
   "pygments_lexer": "ipython3",
   "version": "3.9.12"
  }
 },
 "nbformat": 4,
 "nbformat_minor": 5
}
