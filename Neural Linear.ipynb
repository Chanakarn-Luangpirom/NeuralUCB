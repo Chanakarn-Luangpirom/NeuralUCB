{
 "cells": [
  {
   "cell_type": "code",
   "execution_count": 39,
   "id": "e3738a2a",
   "metadata": {},
   "outputs": [],
   "source": [
    "import pandas as pd\n",
    "import torch\n",
    "import torch.nn as nn\n",
    "import torch.optim as optim\n",
    "import numpy as np\n",
    "from torch.utils.data import DataLoader, TensorDataset\n",
    "import matplotlib.pyplot as plt\n",
    "from scipy.stats import invgamma\n",
    "import math"
   ]
  },
  {
   "cell_type": "code",
   "execution_count": 40,
   "id": "2090fef1",
   "metadata": {},
   "outputs": [
    {
     "data": {
      "text/plain": [
       "device(type='cuda', index=0)"
      ]
     },
     "execution_count": 40,
     "metadata": {},
     "output_type": "execute_result"
    }
   ],
   "source": [
    "device = torch.device('cuda:0' if torch.cuda.is_available() else 'cpu')\n",
    "device"
   ]
  },
  {
   "cell_type": "code",
   "execution_count": 41,
   "id": "49687aad",
   "metadata": {},
   "outputs": [
    {
     "name": "stdout",
     "output_type": "stream",
     "text": [
      "FeedforwardNN(\n",
      "  (layer1): Linear(in_features=20, out_features=20, bias=True)\n",
      "  (relu1): ReLU()\n",
      "  (output_layer): Linear(in_features=20, out_features=1, bias=True)\n",
      ")\n"
     ]
    }
   ],
   "source": [
    "class FeedforwardNN(nn.Module):\n",
    "    def __init__(self, input_size, hidden_size, output_size):\n",
    "        super(FeedforwardNN, self).__init__()\n",
    "        self.layer1 = nn.Linear(input_size, hidden_size) #bias = False?\n",
    "        self.relu1 = nn.ReLU()\n",
    "        self.output_layer = nn.Linear(hidden_size, output_size)\n",
    "        self.lastlayeractivation = None\n",
    "\n",
    "    def forward(self, x):\n",
    "        x = self.relu1(self.layer1(x))\n",
    "        last_hidden_activation = x\n",
    "        x = self.output_layer(x)\n",
    "        return last_hidden_activation, x\n",
    "\n",
    "# Set random seed for reproducibility\n",
    "torch.manual_seed(42)\n",
    "\n",
    "# Instantiate the neural network\n",
    "input_size = 20\n",
    "hidden_size = 20\n",
    "output_size = 1\n",
    "model = FeedforwardNN(input_size, hidden_size, output_size)\n",
    "\n",
    "# # Forward pass\n",
    "# output = model_1(synthetic_input)\n",
    "\n",
    "# To GPU\n",
    "# model_1 = model_1.to(device)\n",
    "\n",
    "# Print the architecture and output shape\n",
    "print(model_1)\n",
    "# print(\"Output shape:\", output.shape)"
   ]
  },
  {
   "cell_type": "code",
   "execution_count": 143,
   "id": "90c37508",
   "metadata": {},
   "outputs": [],
   "source": [
    "T = 100\n",
    "d = 20\n",
    "N = 2\n",
    "capacity = 50\n",
    "L = 10"
   ]
  },
  {
   "cell_type": "code",
   "execution_count": 119,
   "id": "d3a4596f",
   "metadata": {},
   "outputs": [
    {
     "data": {
      "text/plain": [
       "tensor([ 0.5340, -1.4064,  0.1673, -2.1951, -0.3262, -0.0105, -0.0137,  0.3387,\n",
       "        -0.7112,  1.3265, -1.7022,  1.9739, -2.0169,  0.5995, -1.7559, -1.2022,\n",
       "         1.2553, -0.6220,  0.4855, -1.4063])"
      ]
     },
     "execution_count": 119,
     "metadata": {},
     "output_type": "execute_result"
    }
   ],
   "source": [
    "synthetic_input = torch.randn(T,d)\n",
    "synthetic_input[0]"
   ]
  },
  {
   "cell_type": "code",
   "execution_count": 120,
   "id": "83f7428d",
   "metadata": {},
   "outputs": [],
   "source": [
    "def random_ball(num_points,dimension = 20,radius = 1):\n",
    "    output = []\n",
    "    for n in range(num_points):\n",
    "        x = np.random.randn(dimension)\n",
    "        x /= np.linalg.norm(x, ord=2)\n",
    "        x = torch.tensor(x,dtype = torch.float32)\n",
    "        if num_points == 1:\n",
    "            return x\n",
    "        output.append(x)\n",
    "    return torch.stack(output)"
   ]
  },
  {
   "cell_type": "code",
   "execution_count": 123,
   "id": "6685f6ea",
   "metadata": {},
   "outputs": [
    {
     "data": {
      "text/plain": [
       "1.025502499192953"
      ]
     },
     "execution_count": 123,
     "metadata": {},
     "output_type": "execute_result"
    }
   ],
   "source": [
    "# Careful: Adding too much noise breaks it as the noise takes over. But noise doesn't break if the reward is high\n",
    "\n",
    "a = random_ball(1,20,1).reshape(-1)\n",
    "def reward_function(context):\n",
    "    return 10*(torch.dot(context,a)**2).item() + (0.1*torch.randn(1)).item()\n",
    "reward_function_quadratic(random_ball(1,20))"
   ]
  },
  {
   "cell_type": "code",
   "execution_count": 145,
   "id": "dc16c116",
   "metadata": {},
   "outputs": [
    {
     "name": "stdout",
     "output_type": "stream",
     "text": [
      "397.95811735192996\n"
     ]
    }
   ],
   "source": [
    "replay_buffer = [] #E in algorithm\n",
    "\n",
    "mu_hat = np.zeros((N,d))\n",
    "mu_initial = np.zeros((N,d))\n",
    "\n",
    "phi_initial = []\n",
    "phi = []\n",
    "for i in range(N):\n",
    "    phi_initial.append(np.eye(d))\n",
    "    phi.append(np.zeros((d,d)))\n",
    "phi = np.array(phi)\n",
    "phi_initial = np.array(phi_initial)\n",
    "f = np.zeros((N,d))\n",
    "A = np.ones(N)\n",
    "B = np.ones(N)\n",
    "B_initial = np.ones(N)\n",
    "R_2 = np.zeros(N)\n",
    "b = np.zeros(N)\n",
    "\n",
    "for t in range(T):\n",
    "    context = synthetic_input[t]\n",
    "    last_layer, estimated_reward = model(context)\n",
    "    v = np.zeros(N)\n",
    "    mu = np.zeros((N,d))\n",
    "    for i in range(N):\n",
    "        v[i] = invgamma.rvs(A[i],scale=B[i]).item()\n",
    "        v_i_squared = v[i].item()**2\n",
    "        cov_matrix = v_i_squared*(phi_initial[i] + phi[i])\n",
    "        mu[i] = np.random.multivariate_normal(mean=mu_hat[i], cov=cov_matrix)  \n",
    "    last_layer = last_layer.detach().numpy()\n",
    "    arm = np.argmax(last_layer@mu.T)\n",
    "    reward = reward_function(context)\n",
    "    if len(replay_buffer) == capacity:\n",
    "        for i in range(capacity):\n",
    "            if replay_buffer[i][1] == arm:\n",
    "                replay_buffer.pop(i)\n",
    "                break\n",
    "    replay_buffer.append((context,arm,reward))\n",
    "    phi[arm] = phi[arm] + last_layer@last_layer.T\n",
    "    f[arm] = f[arm] + last_layer*reward\n",
    "    mu_hat[arm] = np.linalg.inv(phi_initial[arm]+phi[arm]) @ (phi_initial[arm]@mu_initial[arm]+f[arm])\n",
    "    A[arm] = A[arm] + 0.5\n",
    "    R_2[arm] = R_2[arm] + reward**2\n",
    "    x = mu_initial[arm].T@phi_initial[arm]@mu_initial[arm]\n",
    "    y = mu_hat[arm].T@phi[arm]@mu_hat[arm]\n",
    "    B[arm] = B_initial[arm] + 0.5*(R_2[arm]+x-y)\n",
    "    print(B[arm])\n",
    "    \n",
    "    # To be updated:\n",
    "    if (t+1)%L == 0:\n",
    "        for i in range(N):\n",
    "            pass\n",
    "        pass\n",
    "    break\n",
    "\n",
    "\n"
   ]
  }
 ],
 "metadata": {
  "kernelspec": {
   "display_name": "Python 3 (ipykernel)",
   "language": "python",
   "name": "python3"
  },
  "language_info": {
   "codemirror_mode": {
    "name": "ipython",
    "version": 3
   },
   "file_extension": ".py",
   "mimetype": "text/x-python",
   "name": "python",
   "nbconvert_exporter": "python",
   "pygments_lexer": "ipython3",
   "version": "3.9.12"
  }
 },
 "nbformat": 4,
 "nbformat_minor": 5
}
